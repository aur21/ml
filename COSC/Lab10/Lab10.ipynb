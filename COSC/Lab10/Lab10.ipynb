{
 "cells": [
  {
   "cell_type": "code",
   "execution_count": null,
   "id": "d2368365",
   "metadata": {},
   "outputs": [],
   "source": []
  },
  {
   "cell_type": "markdown",
   "id": "together-pressure",
   "metadata": {},
   "source": [
    "# Lab 10: Unsupervised Learning\n",
    "COSC 410: Applied Machine Learning\\\n",
    "Colgate University\\\n",
    "*Prof. Apthorpe*\n",
    "\n",
    "This lab is due to Gradescope by the beginning of lab next week (2:45p on 4/14). You may work with a partner on this lab – if you do, submit only one solution as a “group” on Gradescope.\n",
    "\n",
    "\n",
    "## Introduction\n",
    "\n",
    "Cancer is the second leading cause of death in the United States (after heart disease), and the development of general therapeutics still poses a significant challenge for medical researchers. It has been said that cancer is a \"disease of multicellularity,\" involving a human's own cells \"going rogue\" by expressing genes they shouldn't and replicating out of control. The advent of fast inexpensive DNA and RNA sequencing techniques now makes it possible for scientists to collect large-scale data about the underlying genetic causes of cancer in an effort to find effective treatments. In this lab, you will experiment with unsupervised dimensionality reduction and clustering algorithms to try to answer the following cancer research questions:\n",
    "\n",
    "**1. Are different cancer types (e.g. lung vs. kidney) the result of the same changes in gene expression occurring in different parts of the body, or do they represent \"different diseases\" with mostly unique changes in gene expression?**\n",
    "\n",
    "**2. Might it be possible to make high-confidence diagnoses of patients' cancer types from gene expression data alone?**\n",
    "\n",
    "You will work with a RNA-Sequencing dataset from \"The Cancer Genome Atlas Pan-Cancer Analysis Project\" (Nature Genetics, 2013) to answer these questions. In human cells, genes encoded in DNA are translated into messenger RNA that is then transcribed into proteins. RNA-sequencing is a method for measuring which genes are currently being expressed (and to what extent). The process involves extracting messenger RNA from cell samples, sequencing the RNA, and mapping the sequences of A, U, C, and G nucleotides back to the known DNA genome. Comparing gene expression between samples from individuals with different cancer types allows researchers to test whether over- or under-expression of particular genes may be correlated with the disease. The dataset we are working with contains a random sample of gene expressions from five different types of tumor: BRCA (breast invasive carcinoma), KIRC (kidney renal clear cell carcinoma), COAD (colon adenocarcinoma), LUAD (lung adenocarcinoma), and PRAD (prostate adenocarcinoma).\n",
    "\n",
    "You will note that the gene expression dataset *does* have ground-truth labels, even though unsupervised learning is primarily intended for data without existing labels.  However, it is common practice to use unsupervised ML with labeled data, because 1) good 2D visualizations are useful for interpreting data even if it has already been labeled, and 2) we can test whether identified clusters align with existing labels to know whether clustering future unlabeled data is likely to be effective.\n",
    "\n",
    "## Provided Files\n",
    " * `Lab10.ipynb`: This file\n",
    " * `TCGA-PANCAN-HiSeq-801x20531.csv`: CSV file with gene expression levels of patients with one of five different cancer types\n",
    " * `TCGA-PANCAN-HiSeq-801x20531_labels.csv`: CSV file with the each patient's cancer type\n",
    " \n",
    "## Part 1: Data Import and Preprocessing\n",
    "\n",
    "The following cells import libraries and implement functions to load the dataset and create scatterplots. You do not need to modify these cells. Look up the [Matplotlib scatter() documentation](https://matplotlib.org/stable/api/_as_gen/matplotlib.pyplot.scatter.html) to understand the `plot_scatter` function"
   ]
  },
  {
   "cell_type": "code",
   "execution_count": 1,
   "id": "emerging-buyer",
   "metadata": {},
   "outputs": [],
   "source": [
    "import numpy as np\n",
    "import pandas as pd\n",
    "import matplotlib.pyplot as plt\n",
    "import keras as ks\n",
    "from sklearn.datasets import load_digits\n",
    "from sklearn.preprocessing import StandardScaler, LabelEncoder\n",
    "from sklearn.decomposition import PCA\n",
    "from sklearn.manifold import TSNE\n",
    "from sklearn.cluster import KMeans\n",
    "from sklearn.metrics import completeness_score"
   ]
  },
  {
   "cell_type": "code",
   "execution_count": 2,
   "id": "willing-aging",
   "metadata": {},
   "outputs": [],
   "source": [
    "def load_cancer_gene_expression():\n",
    "    X = pd.read_csv(\"TCGA-PANCAN-HiSeq-801x20531.csv\")\n",
    "    y = pd.read_csv(\"TCGA-PANCAN-HiSeq-801x20531_labels.csv\")[\"Class\"]\n",
    "    X = X.drop(\"Unnamed: 0\", axis=1)\n",
    "    y = LabelEncoder().fit_transform(y)\n",
    "    return X, y\n",
    "\n",
    "\n",
    "def plot_scatter(X, labels_for_coloring, cmap=\"tab10\"):\n",
    "    plt.scatter(x=X[:,0], y=X[:,1], c=labels_for_coloring, cmap=cmap)"
   ]
  },
  {
   "cell_type": "markdown",
   "id": "divine-southwest",
   "metadata": {},
   "source": [
    "## Part 2. Data Exploration\n",
    "\n",
    "In the following cells, familiarize yourself with the cancer dataset as we have done with other datasets throughout the semester. Check the size of the examples and labels, the counts of examples from different cancer types, etc. "
   ]
  },
  {
   "cell_type": "code",
   "execution_count": 3,
   "id": "warming-highway",
   "metadata": {},
   "outputs": [],
   "source": [
    "X_cancer, y_cancer = load_cancer_gene_expression()"
   ]
  },
  {
   "cell_type": "code",
   "execution_count": 4,
   "id": "formed-filing",
   "metadata": {},
   "outputs": [
    {
     "name": "stdout",
     "output_type": "stream",
     "text": [
      "(801, 20531)\n",
      "(801,)\n",
      "[300  78 146 141 136]\n"
     ]
    }
   ],
   "source": [
    "print(X_cancer.shape)\n",
    "print(y_cancer.shape)\n",
    "\n",
    "uniqLabels = np.unique(y_cancer, return_counts=True)[1]\n",
    "\n",
    "print(uniqLabels)\n"
   ]
  },
  {
   "cell_type": "markdown",
   "id": "closed-imaging",
   "metadata": {},
   "source": [
    "**Question 1:** Describe the facets of the cancer dataset you think are most important to know before beginning a ML pipeline"
   ]
  },
  {
   "cell_type": "markdown",
   "id": "eed949a5-4e8f-4c57-938a-ca1c184564a5",
   "metadata": {},
   "source": [
    "- The dataset's distribution of different patients' cancer types is uneven\n",
    "- There is no 'non-cancer' label in the dataset\n",
    "- The dataset has a large number of feature/columns/dimensions"
   ]
  },
  {
   "cell_type": "markdown",
   "id": "early-strand",
   "metadata": {},
   "source": [
    "## Part 2. Dimensionality Reduction\n",
    "\n",
    "Complete the `pca()`, `tsne()`, and `autoencode()` functions in the following cells.\n",
    "\n",
    "  * `pca(X, n_components)`: Performs PCA on example matrix `X`, producing a new matrix with the same number of examples (rows) and `n_components` features (columns). Returns the new matrix. [Scikit-Learn PCA Documentation](https://scikit-learn.org/stable/modules/generated/sklearn.decomposition.PCA.html#sklearn.decomposition.PCA)\n",
    "  \n",
    "  * `tsne(X, n_components)`: Performs t-SNE on example matrix `X`, producing a new matrix with the same number of examples (rows) and `n_components` features (columns). Returns the new matrix. [Scikit-Learn t-SNE Documentation](https://scikit-learn.org/stable/modules/generated/sklearn.manifold.TSNE.html)\n",
    " \n",
    "  * `autoencode(X, n_components, hidden_layer_nodes, epochs=25)`: Creates and trains a stacked autoencoder to reduce matrix `X` to `n_components` dimensions. Returns the new matrix. `hidden_layer_nodes` should be a list with the numbers of nodes in each layer **between** the input layer and the middle encoding layer. Refer to the course textbook and/or the Keras documentation for examples. Note that you will want to be careful about your choice of activation and loss functions. "
   ]
  },
  {
   "cell_type": "code",
   "execution_count": 10,
   "id": "superior-italian",
   "metadata": {},
   "outputs": [],
   "source": [
    "def pca(X, n_components):\n",
    "    model = PCA(n_components=n_components)\n",
    "    print(model.fit_transform(X))\n",
    "    return model.fit_transform(X)"
   ]
  },
  {
   "cell_type": "code",
   "execution_count": 6,
   "id": "incomplete-signal",
   "metadata": {},
   "outputs": [],
   "source": [
    "def tsne(X, n_components):\n",
    "    model = TSNE(n_components=n_components)\n",
    "    print(model.fit_transform(X))\n",
    "    return model.fit_transform(X)"
   ]
  },
  {
   "cell_type": "code",
   "execution_count": 12,
   "id": "polar-upper",
   "metadata": {},
   "outputs": [],
   "source": [
    "def autoencode(X, n_components, hidden_layer_nodes, epochs=50):\n",
    "    encoder = ks.models.Sequential()\n",
    "    for i in range(len(hidden_layer_nodes)):\n",
    "        encoder.add(ks.layers.Dense(hidden_layer_nodes[i], activation=\"relu\"))\n",
    "    encoder.add(ks.layers.Dense(n_components, activation='linear'))\n",
    "\n",
    "    decoder = ks.models.Sequential()\n",
    "    for j in range(len(hidden_layer_nodes)):\n",
    "        decoder.add(ks.layers.Dense(hidden_layer_nodes[len(hidden_layer_nodes) - j - 1], activation=\"relu\"))\n",
    "    decoder.add(ks.layers.Dense(X.shape[1], activation='linear'))\n",
    "\n",
    "    model = ks.models.Sequential([encoder, decoder])\n",
    "    \n",
    "    model.compile(loss=\"mean_squared_error\", optimizer=\"adam\", metrics=[\"mean_squared_error\"])\n",
    "    early_stopping_callback = ks.callbacks.EarlyStopping(monitor=\"mean_squared_error\", min_delta=0, patience=epochs, restore_best_weights=True)\n",
    "    model.fit(X, X, epochs=epochs, batch_size=32, callbacks=[early_stopping_callback])\n",
    "    return encoder.predict(X)"
   ]
  },
  {
   "cell_type": "markdown",
   "id": "chief-richardson",
   "metadata": {},
   "source": [
    "Use your dimensionality reduction functions to produce 2D visualizations of the cancer dataset. Create 3 plots, one each using PCA, t-SNE, and an autoencoder. Color the points in the plot according to their ground-truth label (use the `plot_scatter` function from Part 1).  Experiment with different autoencoder architectures find a network that results in a good 2D embedding."
   ]
  },
  {
   "cell_type": "code",
   "execution_count": 8,
   "id": "plain-conservative",
   "metadata": {},
   "outputs": [
    {
     "name": "stdout",
     "output_type": "stream",
     "text": [
      "[[-62.75541522 -94.07197347]\n",
      " [ -2.43289636  90.58584189]\n",
      " [-71.26685284  -8.06460783]\n",
      " ...\n",
      " [ 10.48626145  21.57059462]\n",
      " [-55.06360486 -92.39477806]\n",
      " [-49.10303378 -50.99763916]]\n"
     ]
    },
    {
     "data": {
      "image/png": "[encoded data removed]",
      "text/plain": [
       "<Figure size 432x288 with 1 Axes>"
      ]
     },
     "metadata": {
      "needs_background": "light"
     },
     "output_type": "display_data"
    }
   ],
   "source": [
    "# Cancer Dataset: PCA\n",
    "X_reduct = pca(X_cancer, 2)\n",
    "plot_scatter(X_reduct, y_cancer)"
   ]
  },
  {
   "cell_type": "code",
   "execution_count": 9,
   "id": "accompanied-insider",
   "metadata": {},
   "outputs": [
    {
     "name": "stderr",
     "output_type": "stream",
     "text": [
      "C:\\Python310\\lib\\site-packages\\sklearn\\manifold\\_t_sne.py:780: FutureWarning: The default initialization in TSNE will change from 'random' to 'pca' in 1.2.\n",
      "  warnings.warn(\n",
      "C:\\Python310\\lib\\site-packages\\sklearn\\manifold\\_t_sne.py:790: FutureWarning: The default learning rate in TSNE will change from 200.0 to 'auto' in 1.2.\n",
      "  warnings.warn(\n"
     ]
    },
    {
     "name": "stdout",
     "output_type": "stream",
     "text": [
      "[[-41.889595    4.484376 ]\n",
      " [  9.903641   28.116922 ]\n",
      " [-40.88931    -2.9740431]\n",
      " ...\n",
      " [-13.344922   23.71489  ]\n",
      " [-39.07039     2.1761835]\n",
      " [-33.31756     2.9403536]]\n"
     ]
    },
    {
     "name": "stderr",
     "output_type": "stream",
     "text": [
      "C:\\Python310\\lib\\site-packages\\sklearn\\manifold\\_t_sne.py:780: FutureWarning: The default initialization in TSNE will change from 'random' to 'pca' in 1.2.\n",
      "  warnings.warn(\n",
      "C:\\Python310\\lib\\site-packages\\sklearn\\manifold\\_t_sne.py:790: FutureWarning: The default learning rate in TSNE will change from 200.0 to 'auto' in 1.2.\n",
      "  warnings.warn(\n"
     ]
    },
    {
     "data": {
      "image/png": "[encoded data removed]",
      "text/plain": [
       "<Figure size 432x288 with 1 Axes>"
      ]
     },
     "metadata": {
      "needs_background": "light"
     },
     "output_type": "display_data"
    }
   ],
   "source": [
    "# Cancer dataset: t-SNE\n",
    "X_reduct = tsne(X_cancer, 2)\n",
    "plot_scatter(X_reduct, y_cancer)"
   ]
  },
  {
   "cell_type": "code",
   "execution_count": 13,
   "id": "working-floor",
   "metadata": {},
   "outputs": [
    {
     "name": "stdout",
     "output_type": "stream",
     "text": [
      "Epoch 1/50\n",
      "26/26 [==============================] - 1s 10ms/step - loss: 22.5427 - mean_squared_error: 22.5427\n",
      "Epoch 2/50\n",
      "26/26 [==============================] - 0s 11ms/step - loss: 2.2802 - mean_squared_error: 2.2802\n",
      "Epoch 3/50\n",
      "26/26 [==============================] - 0s 12ms/step - loss: 1.7949 - mean_squared_error: 1.7949\n",
      "Epoch 4/50\n",
      "26/26 [==============================] - 0s 12ms/step - loss: 1.7780 - mean_squared_error: 1.7780\n",
      "Epoch 5/50\n",
      "26/26 [==============================] - 0s 11ms/step - loss: 1.7751 - mean_squared_error: 1.7751\n",
      "Epoch 6/50\n",
      "26/26 [==============================] - 0s 11ms/step - loss: 1.7730 - mean_squared_error: 1.7730\n",
      "Epoch 7/50\n",
      "26/26 [==============================] - 0s 11ms/step - loss: 1.7758 - mean_squared_error: 1.7758\n",
      "Epoch 8/50\n",
      "26/26 [==============================] - 0s 11ms/step - loss: 1.7846 - mean_squared_error: 1.7846\n",
      "Epoch 9/50\n",
      "26/26 [==============================] - 0s 11ms/step - loss: 1.7795 - mean_squared_error: 1.7795\n",
      "Epoch 10/50\n",
      "26/26 [==============================] - 0s 11ms/step - loss: 1.7747 - mean_squared_error: 1.7747\n",
      "Epoch 11/50\n",
      "26/26 [==============================] - 0s 12ms/step - loss: 1.7890 - mean_squared_error: 1.7890\n",
      "Epoch 12/50\n",
      "26/26 [==============================] - 0s 11ms/step - loss: 1.7868 - mean_squared_error: 1.7868\n",
      "Epoch 13/50\n",
      "26/26 [==============================] - 0s 11ms/step - loss: 1.7816 - mean_squared_error: 1.7816\n",
      "Epoch 14/50\n",
      "26/26 [==============================] - 0s 11ms/step - loss: 1.7756 - mean_squared_error: 1.7756\n",
      "Epoch 15/50\n",
      "26/26 [==============================] - 0s 11ms/step - loss: 1.7382 - mean_squared_error: 1.7382\n",
      "Epoch 16/50\n",
      "26/26 [==============================] - 0s 12ms/step - loss: 1.6972 - mean_squared_error: 1.6972\n",
      "Epoch 17/50\n",
      "26/26 [==============================] - 0s 11ms/step - loss: 1.6052 - mean_squared_error: 1.6052\n",
      "Epoch 18/50\n",
      "26/26 [==============================] - 0s 11ms/step - loss: 1.5293 - mean_squared_error: 1.5293\n",
      "Epoch 19/50\n",
      "26/26 [==============================] - 0s 11ms/step - loss: 1.4982 - mean_squared_error: 1.4982\n",
      "Epoch 20/50\n",
      "26/26 [==============================] - 0s 12ms/step - loss: 1.4617 - mean_squared_error: 1.4617\n",
      "Epoch 21/50\n",
      "26/26 [==============================] - 0s 11ms/step - loss: 1.4513 - mean_squared_error: 1.4513\n",
      "Epoch 22/50\n",
      "26/26 [==============================] - 0s 11ms/step - loss: 1.4335 - mean_squared_error: 1.4335\n",
      "Epoch 23/50\n",
      "26/26 [==============================] - 0s 12ms/step - loss: 1.4314 - mean_squared_error: 1.4314\n",
      "Epoch 24/50\n",
      "26/26 [==============================] - 0s 11ms/step - loss: 1.4064 - mean_squared_error: 1.4064\n",
      "Epoch 25/50\n",
      "26/26 [==============================] - 0s 11ms/step - loss: 1.4028 - mean_squared_error: 1.4028\n",
      "Epoch 26/50\n",
      "26/26 [==============================] - 0s 11ms/step - loss: 1.3957 - mean_squared_error: 1.3957\n",
      "Epoch 27/50\n",
      "26/26 [==============================] - 0s 11ms/step - loss: 1.3682 - mean_squared_error: 1.3682\n",
      "Epoch 28/50\n",
      "26/26 [==============================] - 0s 11ms/step - loss: 1.3816 - mean_squared_error: 1.3816\n",
      "Epoch 29/50\n",
      "26/26 [==============================] - 0s 11ms/step - loss: 1.3620 - mean_squared_error: 1.3620\n",
      "Epoch 30/50\n",
      "26/26 [==============================] - 0s 11ms/step - loss: 1.3590 - mean_squared_error: 1.3590\n",
      "Epoch 31/50\n",
      "26/26 [==============================] - 0s 11ms/step - loss: 1.3620 - mean_squared_error: 1.3620\n",
      "Epoch 32/50\n",
      "26/26 [==============================] - 0s 11ms/step - loss: 1.3576 - mean_squared_error: 1.3576\n",
      "Epoch 33/50\n",
      "26/26 [==============================] - 0s 12ms/step - loss: 1.3572 - mean_squared_error: 1.3572\n",
      "Epoch 34/50\n",
      "26/26 [==============================] - 0s 12ms/step - loss: 1.4409 - mean_squared_error: 1.4409\n",
      "Epoch 35/50\n",
      "26/26 [==============================] - 0s 12ms/step - loss: 1.3560 - mean_squared_error: 1.3560\n",
      "Epoch 36/50\n",
      "26/26 [==============================] - 0s 12ms/step - loss: 1.3414 - mean_squared_error: 1.3414\n",
      "Epoch 37/50\n",
      "26/26 [==============================] - 0s 11ms/step - loss: 1.3515 - mean_squared_error: 1.3515\n",
      "Epoch 38/50\n",
      "26/26 [==============================] - 0s 11ms/step - loss: 1.3489 - mean_squared_error: 1.3489\n",
      "Epoch 39/50\n",
      "26/26 [==============================] - 0s 11ms/step - loss: 1.3560 - mean_squared_error: 1.3560\n",
      "Epoch 40/50\n",
      "26/26 [==============================] - 0s 11ms/step - loss: 1.3416 - mean_squared_error: 1.3416\n",
      "Epoch 41/50\n",
      "26/26 [==============================] - 0s 11ms/step - loss: 1.3520 - mean_squared_error: 1.3520\n",
      "Epoch 42/50\n",
      "26/26 [==============================] - 0s 11ms/step - loss: 1.3582 - mean_squared_error: 1.3582\n",
      "Epoch 43/50\n",
      "26/26 [==============================] - 0s 11ms/step - loss: 1.3487 - mean_squared_error: 1.3487\n",
      "Epoch 44/50\n",
      "26/26 [==============================] - 0s 12ms/step - loss: 1.3331 - mean_squared_error: 1.3331\n",
      "Epoch 45/50\n",
      "26/26 [==============================] - 0s 12ms/step - loss: 1.3405 - mean_squared_error: 1.3405\n",
      "Epoch 46/50\n",
      "26/26 [==============================] - 0s 12ms/step - loss: 1.3528 - mean_squared_error: 1.3528\n",
      "Epoch 47/50\n",
      "26/26 [==============================] - 0s 13ms/step - loss: 1.3379 - mean_squared_error: 1.3379\n",
      "Epoch 48/50\n",
      "26/26 [==============================] - 0s 12ms/step - loss: 1.3409 - mean_squared_error: 1.3409\n",
      "Epoch 49/50\n",
      "26/26 [==============================] - 0s 13ms/step - loss: 1.3393 - mean_squared_error: 1.3393\n",
      "Epoch 50/50\n",
      "26/26 [==============================] - 0s 12ms/step - loss: 1.3340 - mean_squared_error: 1.3340\n"
     ]
    },
    {
     "data": {
      "image/png": "[encoded data removed]",
      "text/plain": [
       "<Figure size 432x288 with 1 Axes>"
      ]
     },
     "metadata": {
      "needs_background": "light"
     },
     "output_type": "display_data"
    }
   ],
   "source": [
    "# Cancer dataset: Autoencoder\n",
    "\n",
    "plot_scatter(autoencode(X_cancer, 2, [16]), y_cancer)"
   ]
  },
  {
   "cell_type": "markdown",
   "id": "eight-coordinator",
   "metadata": {},
   "source": [
    "**Question 2**: Which dimensionality reduction technique produced the best 2D visualization of the dataset? What criteria did you use to define \"best\"?"
   ]
  },
  {
   "cell_type": "markdown",
   "id": "7b81c530-b20f-49c6-8756-1628c1cb2771",
   "metadata": {},
   "source": [
    "tSNE produced the best 2D visualization of the dataset; \"best\" in this case means clearest separation between each category in the dataset."
   ]
  },
  {
   "cell_type": "markdown",
   "id": "binary-delight",
   "metadata": {},
   "source": [
    "**Question 3:** What variations to the autoencoder did you try to improve the 2D representation? Which made a noticeable difference? Why might this be the case? "
   ]
  },
  {
   "cell_type": "markdown",
   "id": "4d6bae6e-cdc9-4317-8d69-c1bfc7ff0de9",
   "metadata": {},
   "source": [
    "Variations attempted to improve 2D representation: Changing the number of hidden layers and number of nodes in those layers, raising the epoch count and implementing early stopping. All variations except changing the number of layers/nodes made a noticeable difference; likely because more epochs allow the training loss to go down further, and early stopping retrieves the best performing model that has the best dimensionality reduction performance."
   ]
  },
  {
   "cell_type": "markdown",
   "id": "verbal-console",
   "metadata": {},
   "source": [
    "## Part 3. Clustering\n",
    "\n",
    "Complete the following function to perform clustering on an unlabeled dataset:\n",
    "\n",
    "* `kmeans(X, n_clusters)`: Clusters `X` into `n_clusters` clusters using the k-means algorithm. Returns an integer array with the cluster indices assigned to each example in `X`. For example, if index 1 of the return value is 7, this means that example 1 (i.e. `X[1,:]`) has been assigned to cluster 7. Scikit-Learn [k-means documentation](https://scikit-learn.org/stable/modules/generated/sklearn.cluster.KMeans.html#). "
   ]
  },
  {
   "cell_type": "code",
   "execution_count": 11,
   "id": "stuffed-lincoln",
   "metadata": {},
   "outputs": [],
   "source": [
    "def kmeans(X, n_clusters):\n",
    "    model = KMeans(n_clusters=n_clusters)\n",
    "    return model.fit_predict(X)"
   ]
  },
  {
   "cell_type": "markdown",
   "id": "isolated-pharmacology",
   "metadata": {},
   "source": [
    "In the following cell\n",
    "\n",
    "1. Cluster the full cancer dataset (original dimensionality) into 5 clusters using `kmeans()`\n",
    "2. Reduce the dataset to 2D using `tsne()`\n",
    "3. Plot the 2D dataset **colored by cluster labels**"
   ]
  },
  {
   "cell_type": "code",
   "execution_count": 48,
   "id": "duplicate-plant",
   "metadata": {},
   "outputs": [
    {
     "name": "stderr",
     "output_type": "stream",
     "text": [
      "C:\\Python310\\lib\\site-packages\\sklearn\\manifold\\_t_sne.py:780: FutureWarning: The default initialization in TSNE will change from 'random' to 'pca' in 1.2.\n",
      "  warnings.warn(\n",
      "C:\\Python310\\lib\\site-packages\\sklearn\\manifold\\_t_sne.py:790: FutureWarning: The default learning rate in TSNE will change from 200.0 to 'auto' in 1.2.\n",
      "  warnings.warn(\n"
     ]
    },
    {
     "data": {
      "image/png": "[encoded data removed]",
      "text/plain": [
       "<Figure size 432x288 with 1 Axes>"
      ]
     },
     "metadata": {
      "needs_background": "light"
     },
     "output_type": "display_data"
    }
   ],
   "source": [
    "X_km = kmeans(X_cancer, 5)\n",
    "X_tsne = tsne(X_cancer, 2)\n",
    "\n",
    "plot_scatter(X_tsne, X_km)"
   ]
  },
  {
   "cell_type": "markdown",
   "id": "complicated-vocabulary",
   "metadata": {},
   "source": [
    "**Question 4:** Why did we choose to find 5 clusters? "
   ]
  },
  {
   "cell_type": "markdown",
   "id": "96bfda64-820a-41cc-bc61-8e3dc269d26a",
   "metadata": {},
   "source": [
    "Because the original dataset had 5 unique classes to which examples were assigned"
   ]
  },
  {
   "cell_type": "markdown",
   "id": "suffering-scheme",
   "metadata": {},
   "source": [
    "**Question 5:** How do the unsupervised k-means clusters compare to the ground truth labels? *(Visually compare against your plot from Part 2)*"
   ]
  },
  {
   "cell_type": "markdown",
   "id": "e162d4d1-9672-415f-86ac-8ca519fd751e",
   "metadata": {},
   "source": [
    "K-means clustering mostly correctly clusters the dataset and the graph is very similar to the ground truth tSNE plot, but there are some outliers which are clustered with an unrelated group (visible on the scatterplot with some datapoints being in groups they don't belong)"
   ]
  },
  {
   "cell_type": "markdown",
   "id": "cheap-dietary",
   "metadata": {},
   "source": [
    "**Question 6:** What are some **pros** and **cons** of clustering a dataset in its original high dimensionality versus clustering after dimensionality reduction?"
   ]
  },
  {
   "cell_type": "markdown",
   "id": "e042f698-121f-4bb0-a382-dc654778b5ee",
   "metadata": {},
   "source": [
    "Clustering after dimensionality reduction reduces/eliminates the case of outliers being clustered into unrelated groups, but dimensionality reductions may omit and alter the original high-dimensional data in ways that might affect the accuracy of the clustering"
   ]
  },
  {
   "cell_type": "markdown",
   "id": "subtle-brooks",
   "metadata": {},
   "source": [
    "In the following cell, compute and print the [completeness score](https://scikit-learn.org/stable/modules/generated/sklearn.metrics.completeness_score.html#sklearn.metrics.completeness_score) to quantitatively evaluate the effectiveness of k-means clustering on the cancer dataset given the known ground-truth labels"
   ]
  },
  {
   "cell_type": "code",
   "execution_count": 49,
   "id": "silent-postage",
   "metadata": {},
   "outputs": [
    {
     "name": "stdout",
     "output_type": "stream",
     "text": [
      "0.9763990539625916\n"
     ]
    }
   ],
   "source": [
    "# Todo\n",
    "print(completeness_score(y_cancer, X_km))"
   ]
  },
  {
   "cell_type": "markdown",
   "id": "different-cotton",
   "metadata": {},
   "source": [
    "**Question 7:** Explain this completeness score and what it means for the cancer dataset as you would to a **layperson** with no specific ML or CS knowledge.  "
   ]
  },
  {
   "cell_type": "markdown",
   "id": "bfa0be2d-67e4-458c-9d4d-e393a5f79787",
   "metadata": {},
   "source": [
    "The completescore score denotes how much of the ML model's cancer type predictions line up with the cancer type labels in the dataset"
   ]
  },
  {
   "cell_type": "markdown",
   "id": "stylish-annotation",
   "metadata": {},
   "source": [
    "## Part 4. Final Questions"
   ]
  },
  {
   "cell_type": "markdown",
   "id": "elect-salem",
   "metadata": {},
   "source": [
    "**Question 8:** What does the data analysis in Part 2 suggest about **Research Question 1**? Support your argument by referring to your plots. What does this imply about why \"curing cancer\" is such a difficult medical problem?"
   ]
  },
  {
   "cell_type": "markdown",
   "id": "00ec4d3a-12da-4a80-9b7e-f5f8775dde03",
   "metadata": {},
   "source": [
    "**1. Are different cancer types (e.g. lung vs. kidney) the result of the same changes in gene expression occurring in different parts of the body, or do they represent \"different diseases\" with mostly unique changes in gene expression?**\n",
    "\n",
    "The data analysis, especially the plots produced by tSNE, indicate that there is little overlap between the features exhibited by different cancer types, because the different clusters on the plot have no overlap. Thus, the data analysis indicates that different cancer types represent \"different diseases\" with mostly unique changes in gene expression. This helps explain why \"curing cancer\" is a difficult problem; because each cancer type is a different \"disease\" with different changes in gene expression, a genetic cure for one type of cancer may not necessarily be applicable to another."
   ]
  },
  {
   "cell_type": "markdown",
   "id": "tropical-chair",
   "metadata": {},
   "source": [
    "**Question 9:** What does the data analysis in Part 3 suggest about **Research Question 2**? Support your argument by referring to your plots. "
   ]
  },
  {
   "cell_type": "markdown",
   "id": "ba48cb14-2154-4979-b6a9-a23d02e5520a",
   "metadata": {},
   "source": [
    "**2. Might it be possible to make high-confidence diagnoses of patients' cancer types from gene expression data alone?**\n",
    "\n",
    "The data analysis indicates that there is little overlap between the features exhibited by different cancer types, because the different clusters on the plot have no overlap. Thus, this indicates that different cancer types likely exhibit unique gene expressions that are unlikely to be mistaken for one another. Thus, it may be possible to make high-confidence diagnoses of patients' cancer types from gene expression data alone."
   ]
  },
  {
   "cell_type": "markdown",
   "id": "serial-veteran",
   "metadata": {},
   "source": [
    "**Question 10:** We could have used a supervised ML approach to address **Research Question 2** given that we have ground truth labels for the cancer dataset. However, in what other real-world situations would effective clustering of unlabeled medical diagnostic results be useful for doctors?"
   ]
  },
  {
   "cell_type": "markdown",
   "id": "91fa2d5e-b8fd-41e9-a810-a0ac1870b199",
   "metadata": {},
   "source": [
    "Clustering of unlabeled medical diagnostic results would be useful for doctors to produce preliminary findings for diagnosis of novel diseases based on gathered medical data, before in-depth research can be done on the symptoms and features of those novel diseases to distinguish them."
   ]
  }
 ],
 "metadata": {
  "kernelspec": {
   "display_name": "Python 3 (ipykernel)",
   "language": "python",
   "name": "python3"
  },
  "language_info": {
   "codemirror_mode": {
    "name": "ipython",
    "version": 3
   },
   "file_extension": ".py",
   "mimetype": "text/x-python",
   "name": "python",
   "nbconvert_exporter": "python",
   "pygments_lexer": "ipython3",
   "version": "3.10.2"
  }
 },
 "nbformat": 4,
 "nbformat_minor": 5
}
