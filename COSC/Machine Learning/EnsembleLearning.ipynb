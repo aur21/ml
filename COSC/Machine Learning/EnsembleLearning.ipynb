{
 "cells": [
  {
   "cell_type": "markdown",
   "id": "aboriginal-providence",
   "metadata": {},
   "source": [
    "# Ensemble Learning: Programming Practice\n",
    "\n",
    "COSC 410: Applied Machine Learning\\\n",
    "Colgate University\\\n",
    "*Prof. Apthorpe*\n",
    "\n",
    "## Overview\n",
    "\n",
    "This notebook will give you some practice training ensemble learning algorithms, including\n",
    "  1. Random Forests\n",
    "  2. AdaBoost\n",
    "  3. Gradient Boostin\n",
    "  4. Bagging & Voting Classifiers\n",
    "  \n",
    "We will be using the heart failure dataset from previous classes as well as a new dataset of student school performance."
   ]
  },
  {
   "cell_type": "code",
   "execution_count": 3,
   "id": "satisfied-devil",
   "metadata": {},
   "outputs": [],
   "source": [
    "# Import libraries\n",
    "import numpy as np\n",
    "import pandas as pd\n",
    "import matplotlib.pyplot as plt\n",
    "import seaborn as sns\n",
    "import sklearn\n",
    "import sklearn.preprocessing\n",
    "import sklearn.model_selection\n",
    "import sklearn.metrics\n",
    "import sklearn.ensemble\n",
    "import sklearn.tree\n",
    "import sklearn.neighbors\n",
    "import sklearn.linear_model\n",
    "import sklearn.svm\n",
    "import sklearn.datasets"
   ]
  },
  {
   "cell_type": "markdown",
   "id": "impressive-breakfast",
   "metadata": {},
   "source": [
    "## Part 1. Random Forests\n",
    "\n",
    "We will be using the \"Student Performance Data Set\" from the UC Irving Machine Learning Repository (https://archive.ics.uci.edu/ml/datasets/Student+Performance). The dataset is from a school in Portugal and includes 30 student demographic features along with student performance in a math class. This dataset is not standardized and has many categorical features that require encoding. Our goal will be to see whether we can train a random forest to predict math performance from student demographic data alone. \n",
    "\n",
    "The `load_process_student_data()` function performs all necessary data import and preprocessing steps."
   ]
  },
  {
   "cell_type": "code",
   "execution_count": 4,
   "id": "a12c5e56-e084-441f-ba87-93216e999faf",
   "metadata": {},
   "outputs": [],
   "source": [
    "def load_process_student_data():\n",
    "    X = pd.read_csv(\"student-mat.csv\", delimiter=\";\")\n",
    "\n",
    "    # Separate labels\n",
    "    y = X['G3']\n",
    "\n",
    "    # Drop labels\n",
    "    X.drop([\"G1\", \"G2\", \"G3\"], axis=1, inplace=True)\n",
    "\n",
    "    # List of the column names with features that should be ordinal encoded\n",
    "    ordinal_features = ['school', 'sex', 'address', 'famsize', 'Pstatus',\n",
    "                       'schoolsup', 'famsup', 'paid', 'activities', 'nursery',\n",
    "                       'higher', 'internet', 'romantic']\n",
    "\n",
    "    # Ordinal encode all of these features\n",
    "    ordinal = sklearn.preprocessing.OrdinalEncoder()\n",
    "    X[ordinal_features] = ordinal.fit_transform(X[ordinal_features])\n",
    "\n",
    "    # List of the column names with nominal features that should be one-hot encoded\n",
    "    onehot_features = ['Mjob', 'Fjob', 'reason', 'guardian']\n",
    "\n",
    "    # One-hot encode these features \n",
    "    X = pd.get_dummies(X, columns=onehot_features)\n",
    "    \n",
    "    # Return preprocessed data\n",
    "    return X, y"
   ]
  },
  {
   "cell_type": "code",
   "execution_count": 5,
   "id": "distributed-nation",
   "metadata": {},
   "outputs": [
    {
     "name": "stdout",
     "output_type": "stream",
     "text": [
      "(395, 43)\n",
      "(395,)\n"
     ]
    }
   ],
   "source": [
    "# Load and preprocess student data (code from prior class notebooks in import_student_data.py)\n",
    "X_train, y_train = load_process_student_data()\n",
    "print(X_train.shape)\n",
    "print(y_train.shape)"
   ]
  },
  {
   "cell_type": "code",
   "execution_count": null,
   "id": "79559267-275c-407b-af19-35ddc553af63",
   "metadata": {},
   "outputs": [],
   "source": [
    "# Print shapes of data and labels\n"
   ]
  },
  {
   "cell_type": "markdown",
   "id": "6ce436f8-fda9-4f8f-a8f3-063242c2278e",
   "metadata": {},
   "source": [
    "When training a random forest, the most important hyperparameter is the number of trees in the forest. Let's use the `GridSearchCV` function to try a range of forest sizes"
   ]
  },
  {
   "cell_type": "code",
   "execution_count": 8,
   "id": "fundamental-experience",
   "metadata": {},
   "outputs": [
    {
     "data": {
      "text/html": [
       "<div>\n",
       "<style scoped>\n",
       "    .dataframe tbody tr th:only-of-type {\n",
       "        vertical-align: middle;\n",
       "    }\n",
       "\n",
       "    .dataframe tbody tr th {\n",
       "        vertical-align: top;\n",
       "    }\n",
       "\n",
       "    .dataframe thead th {\n",
       "        text-align: right;\n",
       "    }\n",
       "</style>\n",
       "<table border=\"1\" class=\"dataframe\">\n",
       "  <thead>\n",
       "    <tr style=\"text-align: right;\">\n",
       "      <th></th>\n",
       "      <th>param_n_estimators</th>\n",
       "      <th>mean_test_score</th>\n",
       "    </tr>\n",
       "  </thead>\n",
       "  <tbody>\n",
       "    <tr>\n",
       "      <th>15</th>\n",
       "      <td>46</td>\n",
       "      <td>-3.074947</td>\n",
       "    </tr>\n",
       "    <tr>\n",
       "      <th>16</th>\n",
       "      <td>49</td>\n",
       "      <td>-3.076689</td>\n",
       "    </tr>\n",
       "    <tr>\n",
       "      <th>14</th>\n",
       "      <td>43</td>\n",
       "      <td>-3.082871</td>\n",
       "    </tr>\n",
       "    <tr>\n",
       "      <th>19</th>\n",
       "      <td>58</td>\n",
       "      <td>-3.087666</td>\n",
       "    </tr>\n",
       "    <tr>\n",
       "      <th>18</th>\n",
       "      <td>55</td>\n",
       "      <td>-3.087726</td>\n",
       "    </tr>\n",
       "    <tr>\n",
       "      <th>17</th>\n",
       "      <td>52</td>\n",
       "      <td>-3.089058</td>\n",
       "    </tr>\n",
       "    <tr>\n",
       "      <th>27</th>\n",
       "      <td>82</td>\n",
       "      <td>-3.100486</td>\n",
       "    </tr>\n",
       "    <tr>\n",
       "      <th>26</th>\n",
       "      <td>79</td>\n",
       "      <td>-3.100737</td>\n",
       "    </tr>\n",
       "    <tr>\n",
       "      <th>20</th>\n",
       "      <td>61</td>\n",
       "      <td>-3.101006</td>\n",
       "    </tr>\n",
       "    <tr>\n",
       "      <th>21</th>\n",
       "      <td>64</td>\n",
       "      <td>-3.101460</td>\n",
       "    </tr>\n",
       "    <tr>\n",
       "      <th>29</th>\n",
       "      <td>88</td>\n",
       "      <td>-3.101576</td>\n",
       "    </tr>\n",
       "    <tr>\n",
       "      <th>13</th>\n",
       "      <td>40</td>\n",
       "      <td>-3.101825</td>\n",
       "    </tr>\n",
       "    <tr>\n",
       "      <th>22</th>\n",
       "      <td>67</td>\n",
       "      <td>-3.104401</td>\n",
       "    </tr>\n",
       "    <tr>\n",
       "      <th>28</th>\n",
       "      <td>85</td>\n",
       "      <td>-3.105563</td>\n",
       "    </tr>\n",
       "    <tr>\n",
       "      <th>30</th>\n",
       "      <td>91</td>\n",
       "      <td>-3.105623</td>\n",
       "    </tr>\n",
       "    <tr>\n",
       "      <th>25</th>\n",
       "      <td>76</td>\n",
       "      <td>-3.105820</td>\n",
       "    </tr>\n",
       "    <tr>\n",
       "      <th>23</th>\n",
       "      <td>70</td>\n",
       "      <td>-3.106607</td>\n",
       "    </tr>\n",
       "    <tr>\n",
       "      <th>12</th>\n",
       "      <td>37</td>\n",
       "      <td>-3.110802</td>\n",
       "    </tr>\n",
       "    <tr>\n",
       "      <th>31</th>\n",
       "      <td>94</td>\n",
       "      <td>-3.110809</td>\n",
       "    </tr>\n",
       "    <tr>\n",
       "      <th>24</th>\n",
       "      <td>73</td>\n",
       "      <td>-3.112936</td>\n",
       "    </tr>\n",
       "    <tr>\n",
       "      <th>32</th>\n",
       "      <td>97</td>\n",
       "      <td>-3.114642</td>\n",
       "    </tr>\n",
       "    <tr>\n",
       "      <th>11</th>\n",
       "      <td>34</td>\n",
       "      <td>-3.126644</td>\n",
       "    </tr>\n",
       "    <tr>\n",
       "      <th>10</th>\n",
       "      <td>31</td>\n",
       "      <td>-3.138317</td>\n",
       "    </tr>\n",
       "    <tr>\n",
       "      <th>8</th>\n",
       "      <td>25</td>\n",
       "      <td>-3.158392</td>\n",
       "    </tr>\n",
       "    <tr>\n",
       "      <th>7</th>\n",
       "      <td>22</td>\n",
       "      <td>-3.159018</td>\n",
       "    </tr>\n",
       "    <tr>\n",
       "      <th>9</th>\n",
       "      <td>28</td>\n",
       "      <td>-3.167729</td>\n",
       "    </tr>\n",
       "    <tr>\n",
       "      <th>6</th>\n",
       "      <td>19</td>\n",
       "      <td>-3.189801</td>\n",
       "    </tr>\n",
       "    <tr>\n",
       "      <th>5</th>\n",
       "      <td>16</td>\n",
       "      <td>-3.207280</td>\n",
       "    </tr>\n",
       "    <tr>\n",
       "      <th>4</th>\n",
       "      <td>13</td>\n",
       "      <td>-3.274369</td>\n",
       "    </tr>\n",
       "    <tr>\n",
       "      <th>3</th>\n",
       "      <td>10</td>\n",
       "      <td>-3.311795</td>\n",
       "    </tr>\n",
       "    <tr>\n",
       "      <th>2</th>\n",
       "      <td>7</td>\n",
       "      <td>-3.317024</td>\n",
       "    </tr>\n",
       "    <tr>\n",
       "      <th>1</th>\n",
       "      <td>4</td>\n",
       "      <td>-3.416522</td>\n",
       "    </tr>\n",
       "    <tr>\n",
       "      <th>0</th>\n",
       "      <td>1</td>\n",
       "      <td>-4.093974</td>\n",
       "    </tr>\n",
       "  </tbody>\n",
       "</table>\n",
       "</div>"
      ],
      "text/plain": [
       "   param_n_estimators  mean_test_score\n",
       "15                 46        -3.074947\n",
       "16                 49        -3.076689\n",
       "14                 43        -3.082871\n",
       "19                 58        -3.087666\n",
       "18                 55        -3.087726\n",
       "17                 52        -3.089058\n",
       "27                 82        -3.100486\n",
       "26                 79        -3.100737\n",
       "20                 61        -3.101006\n",
       "21                 64        -3.101460\n",
       "29                 88        -3.101576\n",
       "13                 40        -3.101825\n",
       "22                 67        -3.104401\n",
       "28                 85        -3.105563\n",
       "30                 91        -3.105623\n",
       "25                 76        -3.105820\n",
       "23                 70        -3.106607\n",
       "12                 37        -3.110802\n",
       "31                 94        -3.110809\n",
       "24                 73        -3.112936\n",
       "32                 97        -3.114642\n",
       "11                 34        -3.126644\n",
       "10                 31        -3.138317\n",
       "8                  25        -3.158392\n",
       "7                  22        -3.159018\n",
       "9                  28        -3.167729\n",
       "6                  19        -3.189801\n",
       "5                  16        -3.207280\n",
       "4                  13        -3.274369\n",
       "3                  10        -3.311795\n",
       "2                   7        -3.317024\n",
       "1                   4        -3.416522\n",
       "0                   1        -4.093974"
      ]
     },
     "execution_count": 8,
     "metadata": {},
     "output_type": "execute_result"
    }
   ],
   "source": [
    "# Cross-validation folds\n",
    "k = 10\n",
    "\n",
    "# Hyperparameters to tune:\n",
    "params = {\"n_estimators\": range(1, 100, 3)}\n",
    "\n",
    "# Initialize GridSearchCV object with decision tree classifier and hyperparameters\n",
    "grid_forest = sklearn.model_selection.GridSearchCV(estimator=sklearn.ensemble.RandomForestRegressor(random_state=0), param_grid = params, cv = k, return_train_score=True, scoring='neg_mean_absolute_error', refit=True)\n",
    "\n",
    "# Train and cross-validate, print results\n",
    "grid_forest.fit(X_train, y_train)\n",
    "grid_forest_result = pd.DataFrame(grid_forest.cv_results_).sort_values(by=['mean_test_score'], ascending=False)\n",
    "grid_forest_result[['param_n_estimators', 'mean_test_score']]"
   ]
  },
  {
   "cell_type": "markdown",
   "id": "9431d2b8-3512-462a-a155-ff9f6b25817f",
   "metadata": {},
   "source": [
    "We can use the optimized random forest model to find the feature importances"
   ]
  },
  {
   "cell_type": "code",
   "execution_count": 9,
   "id": "composite-effect",
   "metadata": {},
   "outputs": [
    {
     "data": {
      "text/plain": [
       "absences             0.185325\n",
       "failures             0.145157\n",
       "goout                0.045261\n",
       "health               0.039495\n",
       "freetime             0.039190\n",
       "Walc                 0.034127\n",
       "studytime            0.033195\n",
       "Medu                 0.032363\n",
       "age                  0.031849\n",
       "traveltime           0.029736\n",
       "Fedu                 0.026479\n",
       "sex                  0.024826\n",
       "schoolsup            0.024793\n",
       "famrel               0.022939\n",
       "Mjob_services        0.021461\n",
       "activities           0.014466\n",
       "guardian_other       0.014131\n",
       "famsup               0.013297\n",
       "romantic             0.013052\n",
       "Mjob_at_home         0.011902\n",
       "higher               0.011883\n",
       "Dalc                 0.011217\n",
       "Fjob_teacher         0.010898\n",
       "reason_home          0.010822\n",
       "Mjob_other           0.010682\n",
       "address              0.010265\n",
       "Fjob_other           0.009935\n",
       "reason_course        0.009909\n",
       "Fjob_at_home         0.009860\n",
       "famsize              0.009592\n",
       "school               0.009571\n",
       "Mjob_health          0.009417\n",
       "paid                 0.008556\n",
       "internet             0.008180\n",
       "Pstatus              0.007543\n",
       "Mjob_teacher         0.007494\n",
       "guardian_mother      0.007223\n",
       "reason_reputation    0.007161\n",
       "guardian_father      0.007130\n",
       "Fjob_services        0.006967\n",
       "nursery              0.006799\n",
       "reason_other         0.003816\n",
       "Fjob_health          0.002033\n",
       "dtype: float64"
      ]
     },
     "execution_count": 9,
     "metadata": {},
     "output_type": "execute_result"
    }
   ],
   "source": [
    "# Train Random Forest with the optimal number of trees and get feature importances (your optimal n_estimators may vary)\n",
    "rf = grid_forest.best_estimator_\n",
    "pd.Series(rf.feature_importances_, X_train.columns).sort_values(ascending=False)\n"
   ]
  },
  {
   "cell_type": "markdown",
   "id": "e17e7baf-f992-4864-8026-05234a49eca5",
   "metadata": {},
   "source": [
    "**DISCUSSION:** What do these feature importances tell you about the phenomenon we are modeling? How does the ranking of the features by importance align with your expectations about student performance?"
   ]
  },
  {
   "cell_type": "markdown",
   "id": "prescription-trouble",
   "metadata": {},
   "source": [
    "## Part 2. Boosting\n",
    "\n",
    "In Lab 2, we attempted to predict heart failure deaths of cardiac patients. We will return to this dataset to see whether a gradient boosting approach will improve classifier accuracy. "
   ]
  },
  {
   "cell_type": "code",
   "execution_count": 10,
   "id": "thousand-rwanda",
   "metadata": {},
   "outputs": [],
   "source": [
    "# load dataset\n",
    "X_train = pd.read_csv(\"heart_failure_clinical_records_dataset.csv\")\n",
    "y_train = X_train[\"DEATH_EVENT\"]\n",
    "X_train.drop(\"DEATH_EVENT\", axis=1, inplace=True)"
   ]
  },
  {
   "cell_type": "code",
   "execution_count": 13,
   "id": "deluxe-nylon",
   "metadata": {},
   "outputs": [
    {
     "name": "stdout",
     "output_type": "stream",
     "text": [
      "Max val score:  0.5511627588098176\n"
     ]
    }
   ],
   "source": [
    "# Try gradient boosting for a range of boosting rounds to see how many rounds are needed to stabilize performance\n",
    "n_rounds = range(1, 100, 3)\n",
    "val_scores = []\n",
    "train_scores = []\n",
    "\n",
    "# Loop over number of boosting rounds\n",
    "for rounds in n_rounds:\n",
    "    \n",
    "    # Create classifier\n",
    "    gb = sklearn.ensemble.GradientBoostingClassifier(n_estimators=rounds)\n",
    "    \n",
    "    # Cross-validation scores\n",
    "    scores = sklearn.model_selection.cross_validate(gb, X_train, y_train, scoring='f1', cv=10, return_train_score=True)\n",
    "    val_scores.append(scores['test_score'].mean())\n",
    "    train_scores.append(scores['train_score'].mean())\n",
    "\n",
    "# Print best score\n",
    "print(\"Max val score: \", max(val_scores))"
   ]
  },
  {
   "cell_type": "code",
   "execution_count": 14,
   "id": "1948aa8d-a166-4bbe-ae09-2dc652611b8c",
   "metadata": {},
   "outputs": [
    {
     "data": {
      "text/plain": [
       "<AxesSubplot:>"
      ]
     },
     "execution_count": 14,
     "metadata": {},
     "output_type": "execute_result"
    },
    {
     "data": {
      "image/png": "[encoded data removed]",
      "text/plain": [
       "<Figure size 432x288 with 1 Axes>"
      ]
     },
     "metadata": {
      "needs_background": "light"
     },
     "output_type": "display_data"
    }
   ],
   "source": [
    "# Plot F1 score versus number of boosting rounds\n",
    "sns.lineplot(x=n_rounds, y=val_scores, label=\"Val score\")\n",
    "sns.lineplot(x=n_rounds, y=train_scores, label=\"Train score\")"
   ]
  },
  {
   "cell_type": "markdown",
   "id": "corporate-grenada",
   "metadata": {},
   "source": [
    "We could do the same problem with AdaBoost just by replacing the `GradientBoostingClassifier` with `AdaBoostClassifier`"
   ]
  },
  {
   "cell_type": "code",
   "execution_count": null,
   "id": "warming-delivery",
   "metadata": {},
   "outputs": [],
   "source": [
    "# Load dataset and preprocess\n",
    "digits = sklearn.datasets.load_digits()\n",
    "X = digits.images\n",
    "y = digits.target\n",
    "X = digits.images.reshape((len(digits.images), -1))\n",
    "X_train = sklearn.preprocessing.StandardScaler().fit_transform(X_train)"
   ]
  },
  {
   "cell_type": "code",
   "execution_count": null,
   "id": "2e713427-b65d-481a-a4b3-858fbab45e3d",
   "metadata": {},
   "outputs": [],
   "source": [
    "X_train"
   ]
  },
  {
   "cell_type": "code",
   "execution_count": null,
   "id": "approximate-childhood",
   "metadata": {},
   "outputs": [],
   "source": [
    "# Train a single SVM with a polynomial kernel\n",
    "svm = sklearn.svm.SVC(kernel='poly', C=10, decision_function_shape=\"ovr\")\n",
    "scores = sklearn.model_selection.cross_val_score(svm, X_train, y_train, cv=10)\n",
    "print(\"Single SVM accuracy:\", scores.mean())"
   ]
  },
  {
   "cell_type": "code",
   "execution_count": null,
   "id": "hungry-ethiopia",
   "metadata": {},
   "outputs": [],
   "source": [
    "# Train an ensemble of 100 SVMs using bagging\n",
    "svm = sklearn.svm.SVC(kernel='poly', C=100)\n",
    "bag = sklearn.ensemble.BaggingClassifier(base_estimator=svm, n_estimators=100)\n",
    "scores = sklearn.model_selection.cross_val_score(bag, X_train, y_train, cv=10)\n",
    "print(\"100-Bagging SVM accuracy:\", scores.mean())"
   ]
  },
  {
   "cell_type": "code",
   "execution_count": null,
   "id": "returning-department",
   "metadata": {},
   "outputs": [],
   "source": [
    "# Train a 4 different types of models and use soft voting to choose final classification\n",
    "estimators = [('svm', sklearn.svm.SVC(kernel='poly', C=100, probability=True)), \n",
    "              ('dt', sklearn.tree.DecisionTreeClassifier()),\n",
    "              ('lr', sklearn.linear_model.LogisticRegression()),\n",
    "              ('knn', sklearn.neighbors.KNeighborsClassifier())]\n",
    "\n",
    "vc = sklearn.ensemble.VotingClassifier(estimators=estimators, voting='soft')\n",
    "    \n",
    "scores = sklearn.model_selection.cross_val_score(vc, X_train, y_train, cv=10)\n",
    "\n",
    "print('Voting Classifiers accuracy:', np.mean(val_scores))"
   ]
  }
 ],
 "metadata": {
  "kernelspec": {
   "display_name": "Python 3 (ipykernel)",
   "language": "python",
   "name": "python3"
  },
  "language_info": {
   "codemirror_mode": {
    "name": "ipython",
    "version": 3
   },
   "file_extension": ".py",
   "mimetype": "text/x-python",
   "name": "python",
   "nbconvert_exporter": "python",
   "pygments_lexer": "ipython3",
   "version": "3.10.2"
  }
 },
 "nbformat": 4,
 "nbformat_minor": 5
}
