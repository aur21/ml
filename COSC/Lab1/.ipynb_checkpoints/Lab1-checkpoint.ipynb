{
 "cells": [
  {
   "cell_type": "markdown",
   "id": "natural-royalty",
   "metadata": {},
   "source": [
    "# Lab 1: Basic Data Analysis\n",
    "\n",
    "The purpose of this portion of the lab is to get you started running Jupyter notebooks and familiar loading and analyzing data in a notebook. In particular, we will explore the basics of NumPy and Pandas by exploring of some public policy datasets from the Chicago Data Portal. Some of the examples below are adapted from *Machine Learning with Python Cookbook* by Chris Albon.\n",
    "\n",
    "Parts 0, 1 & 2 involve running provided code to become familiar with the libraries. Don't rush through these parts just because the code already works. Instead, make sure you understand what is happening and how to replicate it if you were given similar data without the provided code. Part 3 involves writing your own code to explore a dataset.\n",
    "\n"
   ]
  },
  {
   "cell_type": "markdown",
   "id": "consistent-metabolism",
   "metadata": {},
   "source": [
    "# 0. Jupyter Notebooks\n",
    "\n",
    "Elements in a notebook are divided into cells, which might be markdown text (such as this cell) or code (such as the next cell). You can execute either type of cell by clicking on it and typing \"Shift + Enter\". Executing a markdown cell typesets the text. Executing a code cell runs the code. Execute the following cell to run the \"Hello World\" program."
   ]
  },
  {
   "cell_type": "code",
   "execution_count": 1,
   "id": "defined-fraud",
   "metadata": {},
   "outputs": [
    {
     "name": "stdout",
     "output_type": "stream",
     "text": [
      "Goodbye, World\n"
     ]
    }
   ],
   "source": [
    "print(\"Goodbye, World\")"
   ]
  },
  {
   "cell_type": "markdown",
   "id": "universal-sodium",
   "metadata": {},
   "source": [
    "You can also define functions and variables in cells. Once you have run the cell, the functions and variables are available to any cell in the notebook, *even cells **above** where the variables or functions were defined.* This can be a source of bugs if you start running cells out of order and forget that a later cell overwrote a function or variable value. \n",
    "\n",
    "**Inportant:** If you want to reset the notebook and remove all defined values, use the Kernel > Restart Kernel option from the menu bar. "
   ]
  },
  {
   "cell_type": "markdown",
   "id": "advised-business",
   "metadata": {},
   "source": [
    "## 1. NumPy\n",
    "\n",
    "\n",
    "NumPy is the foundation of the Python machine learning stack. It allows for efficient operations on the data structures often used in machine learning: vectors, arrays, and matrices.\n",
    "\n",
    "This section covers the most common NumPy operations you are likely to run into when preparing data for ML\n",
    "\n",
    "* 1.1 Creating a Vector\n",
    "* 1.2 Creating an Array\n",
    "* 1.3 Selecting Elements in an Array\n",
    "* 1.4 Describing an Array\n",
    "* 1.5 Math with Arrays and Vectors\n",
    "* 1.7 Calculating Basic Statistics\n",
    "* 1.8 Reshaping Arrays\n",
    "* 1.9 Other Array Operations\n",
    "\n",
    "\n",
    "### 1.1 Creating a Vector\n",
    "\n",
    "Use NumPy's built in array type to create a one-dimensional vector"
   ]
  },
  {
   "cell_type": "code",
   "execution_count": 2,
   "id": "informal-clock",
   "metadata": {},
   "outputs": [
    {
     "name": "stdout",
     "output_type": "stream",
     "text": [
      "[[1 2 3]\n",
      " [4 5 3]]\n",
      "[[1]\n",
      " [2]\n",
      " [3]]\n"
     ]
    }
   ],
   "source": [
    "# load library\n",
    "import numpy as np\n",
    "\n",
    "# create a row vector\n",
    "vector_row = np.array([[1, 2, 3],\n",
    "                       [4, 5, 3]])\n",
    "\n",
    "# create a column vector\n",
    "vector_column = np.array([[1],\n",
    "                          [2],\n",
    "                          [3]])\n",
    "\n",
    "# display\n",
    "print(vector_row)\n",
    "print(vector_column)"
   ]
  },
  {
   "cell_type": "markdown",
   "id": "precise-coaching",
   "metadata": {},
   "source": [
    "### 1.2 Creating an Array (Matrix)\n",
    "\n",
    "To create a 2D or higher-dimensional matrix, we use NumPy's \"array\" type. The code below creates an array (matrix) with three rows and two columns (a column of 1s and a column of 2s)."
   ]
  },
  {
   "cell_type": "code",
   "execution_count": 3,
   "id": "southwest-tunisia",
   "metadata": {},
   "outputs": [
    {
     "name": "stdout",
     "output_type": "stream",
     "text": [
      "[[1 2]\n",
      " [1 2]\n",
      " [1 2]]\n"
     ]
    }
   ],
   "source": [
    "# create a matrix\n",
    "matrix = np.array([[1, 2],\n",
    "                   [1, 2],\n",
    "                   [1, 2]])\n",
    "\n",
    "# display\n",
    "print(matrix)"
   ]
  },
  {
   "cell_type": "markdown",
   "id": "antique-wichita",
   "metadata": {},
   "source": [
    "### 1.3 Selecting Elements in an Array\n",
    "You often need to select one or more elements in a vector or array. Fortunately, NumPy arrays make that easy. Like most things in Python, NumPy arrays are zero-indexed, meaning that the index of the first element is 0, not 1. With that caveat, NumPy offers a wide variety of methods for selecting (i.e., indexing and slicing) elements or groups of elements in arrays. Some examples are shown below:"
   ]
  },
  {
   "cell_type": "code",
   "execution_count": 4,
   "id": "opened-liability",
   "metadata": {},
   "outputs": [],
   "source": [
    "# create row vector\n",
    "vector = np.array([1, 2, 3, 4, 5, 6])\n",
    "\n",
    "# create array\n",
    "matrix = np.array([[1, 2, 3],\n",
    "                   [4, 5, 6],\n",
    "                   [7, 8, 9]])"
   ]
  },
  {
   "cell_type": "code",
   "execution_count": 5,
   "id": "7a078c22-14af-4d0a-84a5-7869e71fb581",
   "metadata": {},
   "outputs": [
    {
     "data": {
      "text/plain": [
       "3"
      ]
     },
     "execution_count": 5,
     "metadata": {},
     "output_type": "execute_result"
    }
   ],
   "source": [
    "# select the third element of vector\n",
    "vector[2]"
   ]
  },
  {
   "cell_type": "code",
   "execution_count": 6,
   "id": "contained-crystal",
   "metadata": {},
   "outputs": [
    {
     "data": {
      "text/plain": [
       "6"
      ]
     },
     "execution_count": 6,
     "metadata": {},
     "output_type": "execute_result"
    }
   ],
   "source": [
    "# select the last element of vector\n",
    "vector[-1]"
   ]
  },
  {
   "cell_type": "code",
   "execution_count": 7,
   "id": "unnecessary-disclosure",
   "metadata": {},
   "outputs": [
    {
     "data": {
      "text/plain": [
       "array([1, 2, 3, 4, 5, 6])"
      ]
     },
     "execution_count": 7,
     "metadata": {},
     "output_type": "execute_result"
    }
   ],
   "source": [
    "# Select all elements of vector\n",
    "vector[:]"
   ]
  },
  {
   "cell_type": "code",
   "execution_count": 8,
   "id": "stunning-words",
   "metadata": {},
   "outputs": [
    {
     "data": {
      "text/plain": [
       "array([1, 2, 3])"
      ]
     },
     "execution_count": 8,
     "metadata": {},
     "output_type": "execute_result"
    }
   ],
   "source": [
    "# select everything up to and including the third element of vector\n",
    "vector[:3]"
   ]
  },
  {
   "cell_type": "code",
   "execution_count": 9,
   "id": "cardiovascular-witch",
   "metadata": {},
   "outputs": [
    {
     "data": {
      "text/plain": [
       "5"
      ]
     },
     "execution_count": 9,
     "metadata": {},
     "output_type": "execute_result"
    }
   ],
   "source": [
    "# select second row, second column of array\n",
    "matrix[1,1]"
   ]
  },
  {
   "cell_type": "code",
   "execution_count": 10,
   "id": "grand-wales",
   "metadata": {},
   "outputs": [
    {
     "data": {
      "text/plain": [
       "array([[1, 2, 3],\n",
       "       [4, 5, 6]])"
      ]
     },
     "execution_count": 10,
     "metadata": {},
     "output_type": "execute_result"
    }
   ],
   "source": [
    "# select the first two rows and all columns of array\n",
    "matrix[:2, :]"
   ]
  },
  {
   "cell_type": "code",
   "execution_count": 11,
   "id": "motivated-driving",
   "metadata": {},
   "outputs": [
    {
     "data": {
      "text/plain": [
       "array([[2, 3],\n",
       "       [5, 6],\n",
       "       [8, 9]])"
      ]
     },
     "execution_count": 11,
     "metadata": {},
     "output_type": "execute_result"
    }
   ],
   "source": [
    "# select all rows and the second column of array\n",
    "matrix[:,1:]"
   ]
  },
  {
   "cell_type": "markdown",
   "id": "about-cheat",
   "metadata": {},
   "source": [
    "These techniques generalize beyond 2D arrays to arbitrary dimensions."
   ]
  },
  {
   "cell_type": "markdown",
   "id": "golden-counter",
   "metadata": {},
   "source": [
    "### 1.4 Describing an Array\n",
    "\n",
    "If it often helpful to be able to describe the shape, size, and dimensions of a NumPy array. The shape, size, and ndim functions allow you to do this."
   ]
  },
  {
   "cell_type": "code",
   "execution_count": 12,
   "id": "maritime-addiction",
   "metadata": {},
   "outputs": [
    {
     "data": {
      "text/plain": [
       "(3, 4)"
      ]
     },
     "execution_count": 12,
     "metadata": {},
     "output_type": "execute_result"
    }
   ],
   "source": [
    "# create array\n",
    "matrix = np.array([[1, 2, 3, 4],\n",
    "                   [5, 6, 7, 8],\n",
    "                   [9, 10, 11, 12]])\n",
    "\n",
    "# view number of rows and columns\n",
    "matrix.shape"
   ]
  },
  {
   "cell_type": "code",
   "execution_count": 13,
   "id": "documentary-absorption",
   "metadata": {},
   "outputs": [
    {
     "data": {
      "text/plain": [
       "12"
      ]
     },
     "execution_count": 13,
     "metadata": {},
     "output_type": "execute_result"
    }
   ],
   "source": [
    "# view number of elements (rows * columns)\n",
    "matrix.size"
   ]
  },
  {
   "cell_type": "code",
   "execution_count": 14,
   "id": "varying-velvet",
   "metadata": {},
   "outputs": [
    {
     "data": {
      "text/plain": [
       "2"
      ]
     },
     "execution_count": 14,
     "metadata": {},
     "output_type": "execute_result"
    }
   ],
   "source": [
    "# view number of dimensions\n",
    "matrix.ndim"
   ]
  },
  {
   "cell_type": "markdown",
   "id": "second-mirror",
   "metadata": {},
   "source": [
    "Although this might seem basic, it is frequently valuable to check the shape and size of an array before further calculations (e.g. to make sure it is the right shape for input into a ML algorithm) or simply as a gut check after performing an operation"
   ]
  },
  {
   "cell_type": "markdown",
   "id": "becoming-shopping",
   "metadata": {},
   "source": [
    "### 1.5 Math with Arrays and Vectors\n",
    "\n",
    "When performing operations involving a vector or array and a scaler (single number not in a vector or array), NumPy allows you to use the built-in math operators +, -, * and / through a process called \"broadcasting.\" For example, suppose you want to add 1000 to all elements of an array: "
   ]
  },
  {
   "cell_type": "code",
   "execution_count": 15,
   "id": "f95ce79b-6a7e-4eb2-ad23-99fe06b5bac0",
   "metadata": {},
   "outputs": [
    {
     "name": "stdout",
     "output_type": "stream",
     "text": [
      "[[1001 1002 1003]\n",
      " [1004 1005 1006]\n",
      " [1007 1008 1009]]\n"
     ]
    }
   ],
   "source": [
    "# create array\n",
    "matrix = np.array([[1, 2, 3],\n",
    "                   [4, 5, 6],\n",
    "                   [7, 8, 9]])\n",
    "\n",
    "# add 1000 to all elements\n",
    "new_matrix = matrix + 1000\n",
    "\n",
    "# print the result\n",
    "print(new_matrix)"
   ]
  },
  {
   "cell_type": "markdown",
   "id": "c8fe100d-4b83-422c-beed-63615603f1f3",
   "metadata": {},
   "source": [
    "You might have expected a TypeError, because this involved adding an Array type to an Integer type. However, NumPy automatically broadcasts the operation with the single integer (or float) over all elements of the array. A common preprocessing operation involves adding 1 to arrays with very small values to avoid doing math on small fractions. \n",
    "\n",
    "When performing operations involving only vectors and/or arrays, you should use the NumPy methods with the operation name. These methods all operate **elementwise** (meaning that they add/subtract/multiply/divide the elements in corresponding positions in the operands"
   ]
  },
  {
   "cell_type": "code",
   "execution_count": 16,
   "id": "congressional-detector",
   "metadata": {},
   "outputs": [
    {
     "name": "stdout",
     "output_type": "stream",
     "text": [
      "[[11 22]\n",
      " [33 44]]\n",
      "[[ -9 -18]\n",
      " [-27 -36]]\n",
      "[[ 10  40]\n",
      " [ 90 160]]\n"
     ]
    }
   ],
   "source": [
    "# create two arrays\n",
    "matrix1 = np.array([[1, 2],\n",
    "                   [3, 4]])\n",
    "\n",
    "matrix2 = np.array([[10, 20],\n",
    "                   [30, 40]])\n",
    "\n",
    "# operation examples\n",
    "print( np.add(matrix1, matrix2) )\n",
    "print( np.subtract(matrix1, matrix2) )\n",
    "print( np.multiply(matrix1, matrix2) )"
   ]
  },
  {
   "cell_type": "markdown",
   "id": "infrared-consultation",
   "metadata": {},
   "source": [
    "If you are familiar with vector calculus or linear algrabra, there are also vector and matrix operation functions in NumPy. For example, you can calculate the dot product of two vectors. You can also calculate the matrix product of two vectors, two matrices, or a vector and a matrix as long as they have compatible shapes."
   ]
  },
  {
   "cell_type": "code",
   "execution_count": 17,
   "id": "immune-consensus",
   "metadata": {},
   "outputs": [],
   "source": [
    "# Create a vector and a matrix\n",
    "vector = np.array([1,2])\n",
    "matrix = np.array([[1, 2], [3, 4]])"
   ]
  },
  {
   "cell_type": "code",
   "execution_count": 18,
   "id": "1a65c8e7-db49-4c2f-994a-be634afc3b6b",
   "metadata": {},
   "outputs": [
    {
     "name": "stdout",
     "output_type": "stream",
     "text": [
      "5\n"
     ]
    }
   ],
   "source": [
    "# dot product\n",
    "print( vector.dot(vector) )"
   ]
  },
  {
   "cell_type": "code",
   "execution_count": 19,
   "id": "5e52b50e-3f0f-47c5-820b-de7ea4b61b9f",
   "metadata": {},
   "outputs": [
    {
     "name": "stdout",
     "output_type": "stream",
     "text": [
      "[[ 7 10]\n",
      " [15 22]]\n"
     ]
    }
   ],
   "source": [
    "# matrix multiply\n",
    "print( np.matmul(matrix, matrix) )"
   ]
  },
  {
   "cell_type": "markdown",
   "id": "suitable-study",
   "metadata": {},
   "source": [
    "### 1.6 Basic Statistics\n",
    "\n",
    "NumPy also provides functions for computing basic statistics about data arrays. It is often helpful to inspect these statistics before ML training to better understand your data. "
   ]
  },
  {
   "cell_type": "code",
   "execution_count": 20,
   "id": "conceptual-transmission",
   "metadata": {},
   "outputs": [
    {
     "data": {
      "text/plain": [
       "9"
      ]
     },
     "execution_count": 20,
     "metadata": {},
     "output_type": "execute_result"
    }
   ],
   "source": [
    "# create array\n",
    "matrix = np.array([[1, 2, 3],\n",
    "                   [4, 5, 6],\n",
    "                   [7, 8, 9]])\n",
    "\n",
    "# find maximum element\n",
    "np.max(matrix)"
   ]
  },
  {
   "cell_type": "code",
   "execution_count": 21,
   "id": "signed-bible",
   "metadata": {},
   "outputs": [
    {
     "data": {
      "text/plain": [
       "1"
      ]
     },
     "execution_count": 21,
     "metadata": {},
     "output_type": "execute_result"
    }
   ],
   "source": [
    "# find minimum element\n",
    "np.min(matrix)"
   ]
  },
  {
   "cell_type": "code",
   "execution_count": 22,
   "id": "eight-newton",
   "metadata": {},
   "outputs": [
    {
     "data": {
      "text/plain": [
       "array([7, 8, 9])"
      ]
     },
     "execution_count": 22,
     "metadata": {},
     "output_type": "execute_result"
    }
   ],
   "source": [
    "# find maximum element in each column\n",
    "np.max(matrix, axis=0)"
   ]
  },
  {
   "cell_type": "code",
   "execution_count": 23,
   "id": "toxic-strip",
   "metadata": {},
   "outputs": [
    {
     "data": {
      "text/plain": [
       "array([3, 6, 9])"
      ]
     },
     "execution_count": 23,
     "metadata": {},
     "output_type": "execute_result"
    }
   ],
   "source": [
    "# find maximum element in each row\n",
    "np.max(matrix, axis=1)"
   ]
  },
  {
   "cell_type": "code",
   "execution_count": 24,
   "id": "optional-performer",
   "metadata": {},
   "outputs": [
    {
     "data": {
      "text/plain": [
       "5.0"
      ]
     },
     "execution_count": 24,
     "metadata": {},
     "output_type": "execute_result"
    }
   ],
   "source": [
    "# find mean across entire matrix\n",
    "np.mean(matrix)"
   ]
  },
  {
   "cell_type": "code",
   "execution_count": 25,
   "id": "composite-catalog",
   "metadata": {},
   "outputs": [
    {
     "data": {
      "text/plain": [
       "array([4., 5., 6.])"
      ]
     },
     "execution_count": 25,
     "metadata": {},
     "output_type": "execute_result"
    }
   ],
   "source": [
    "# find the mean value in each column\n",
    "np.mean(matrix, axis=0)"
   ]
  },
  {
   "cell_type": "code",
   "execution_count": 26,
   "id": "incorrect-stylus",
   "metadata": {},
   "outputs": [
    {
     "data": {
      "text/plain": [
       "array([2., 5., 8.])"
      ]
     },
     "execution_count": 26,
     "metadata": {},
     "output_type": "execute_result"
    }
   ],
   "source": [
    "# find the mean value in each row\n",
    "np.mean(matrix, axis=1)"
   ]
  },
  {
   "cell_type": "code",
   "execution_count": 27,
   "id": "written-drink",
   "metadata": {},
   "outputs": [
    {
     "data": {
      "text/plain": [
       "6.666666666666667"
      ]
     },
     "execution_count": 27,
     "metadata": {},
     "output_type": "execute_result"
    }
   ],
   "source": [
    "# find variance across entire matrix\n",
    "np.var(matrix)"
   ]
  },
  {
   "cell_type": "code",
   "execution_count": 28,
   "id": "tender-harvest",
   "metadata": {},
   "outputs": [
    {
     "data": {
      "text/plain": [
       "2.581988897471611"
      ]
     },
     "execution_count": 28,
     "metadata": {},
     "output_type": "execute_result"
    }
   ],
   "source": [
    "# find standard deviation across entire matrix\n",
    "np.std(matrix)"
   ]
  },
  {
   "cell_type": "markdown",
   "id": "literary-archive",
   "metadata": {},
   "source": [
    "### 1.7 Reshaping Arrays\n",
    "\n",
    "Machine learning algorithms often expect input data in a particular shape or dimensionality. NumPy makes it easy to change the shape (number of rows and columns) of an array without changing the element values."
   ]
  },
  {
   "cell_type": "code",
   "execution_count": 29,
   "id": "agricultural-triumph",
   "metadata": {},
   "outputs": [
    {
     "data": {
      "text/plain": [
       "array([[ 1,  2,  3,  4,  5,  6],\n",
       "       [ 7,  8,  9, 10, 11, 12]])"
      ]
     },
     "execution_count": 29,
     "metadata": {},
     "output_type": "execute_result"
    }
   ],
   "source": [
    "# create 4x3 matrix\n",
    "matrix = np.array([[1, 2, 3],\n",
    "                   [4, 5, 6],\n",
    "                   [7, 8, 9],\n",
    "                   [10, 11, 12]])\n",
    "\n",
    "# reshape matrix into 2x6 matrix\n",
    "matrix.reshape(2, 6)"
   ]
  },
  {
   "cell_type": "markdown",
   "id": "operating-institution",
   "metadata": {},
   "source": [
    "The reshape() function allows us to restructure an array so that we maintain the same data but it is organized as a different number of rows and columns. The only requirement is that the shape of the original and new matrix contain the same number of elements (i.e., the same size). We can see the size of a matrix using the size field:"
   ]
  },
  {
   "cell_type": "code",
   "execution_count": 30,
   "id": "selective-destination",
   "metadata": {},
   "outputs": [
    {
     "data": {
      "text/plain": [
       "12"
      ]
     },
     "execution_count": 30,
     "metadata": {},
     "output_type": "execute_result"
    }
   ],
   "source": [
    "matrix.size"
   ]
  },
  {
   "cell_type": "markdown",
   "id": "matched-documentation",
   "metadata": {},
   "source": [
    "One useful argument to reshape is -1, which effectively means “as many as needed,” so reshape(1, -1) means one row and as many columns as needed:"
   ]
  },
  {
   "cell_type": "code",
   "execution_count": 31,
   "id": "organic-importance",
   "metadata": {},
   "outputs": [
    {
     "data": {
      "text/plain": [
       "array([[ 1,  2,  3],\n",
       "       [ 4,  5,  6],\n",
       "       [ 7,  8,  9],\n",
       "       [10, 11, 12]])"
      ]
     },
     "execution_count": 31,
     "metadata": {},
     "output_type": "execute_result"
    }
   ],
   "source": [
    "matrix.reshape(4, -1)"
   ]
  },
  {
   "cell_type": "markdown",
   "id": "illegal-malaysia",
   "metadata": {},
   "source": [
    "Finally, if we provide one integer, reshape will return a 1D array of that length. The flatten() function will also do the same thing. "
   ]
  },
  {
   "cell_type": "code",
   "execution_count": 32,
   "id": "numerous-strap",
   "metadata": {},
   "outputs": [
    {
     "data": {
      "text/plain": [
       "array([ 1,  2,  3,  4,  5,  6,  7,  8,  9, 10, 11, 12])"
      ]
     },
     "execution_count": 32,
     "metadata": {},
     "output_type": "execute_result"
    }
   ],
   "source": [
    "matrix.reshape(12)"
   ]
  },
  {
   "cell_type": "code",
   "execution_count": 33,
   "id": "documentary-district",
   "metadata": {},
   "outputs": [
    {
     "data": {
      "text/plain": [
       "array([ 1,  2,  3,  4,  5,  6,  7,  8,  9, 10, 11, 12])"
      ]
     },
     "execution_count": 33,
     "metadata": {},
     "output_type": "execute_result"
    }
   ],
   "source": [
    "matrix.flatten()"
   ]
  },
  {
   "cell_type": "markdown",
   "id": "revolutionary-encounter",
   "metadata": {},
   "source": [
    "Occasionally, you may want to transpose a vector or matrix. Transposing is a common operation in linear algebra where the column and row indices of each element are swapped. Transposition is performed in NumPy using the T field:"
   ]
  },
  {
   "cell_type": "code",
   "execution_count": 34,
   "id": "sunset-qatar",
   "metadata": {},
   "outputs": [
    {
     "data": {
      "text/plain": [
       "array([[ 1,  4,  7, 10],\n",
       "       [ 2,  5,  8, 11],\n",
       "       [ 3,  6,  9, 12]])"
      ]
     },
     "execution_count": 34,
     "metadata": {},
     "output_type": "execute_result"
    }
   ],
   "source": [
    "matrix.T"
   ]
  },
  {
   "cell_type": "markdown",
   "id": "statistical-transition",
   "metadata": {},
   "source": [
    "One nuanced point is that, technically, a vector cannot be transposed because it is just a collection of values:"
   ]
  },
  {
   "cell_type": "code",
   "execution_count": 35,
   "id": "designing-column",
   "metadata": {},
   "outputs": [
    {
     "data": {
      "text/plain": [
       "array([1, 2, 3, 4, 5, 6])"
      ]
     },
     "execution_count": 35,
     "metadata": {},
     "output_type": "execute_result"
    }
   ],
   "source": [
    "# transpose vector\n",
    "np.array([1, 2, 3, 4, 5, 6]).T"
   ]
  },
  {
   "cell_type": "markdown",
   "id": "asian-bridal",
   "metadata": {},
   "source": [
    "However, it is common to refer to transposing a vector as converting a single-row array (row vector) to a single-column array (column vector) or vice versa:"
   ]
  },
  {
   "cell_type": "code",
   "execution_count": 36,
   "id": "affiliated-northern",
   "metadata": {},
   "outputs": [
    {
     "data": {
      "text/plain": [
       "array([[1],\n",
       "       [2],\n",
       "       [3],\n",
       "       [4],\n",
       "       [5],\n",
       "       [6]])"
      ]
     },
     "execution_count": 36,
     "metadata": {},
     "output_type": "execute_result"
    }
   ],
   "source": [
    "# transpose row vector into column vector\n",
    "np.array([[1, 2, 3, 4, 5, 6]]).T"
   ]
  },
  {
   "cell_type": "markdown",
   "id": "colored-times",
   "metadata": {},
   "source": [
    "Using a row vector when you should have a column vector (or vice versa) is a common gotcha when supplying data to ML algorithms!"
   ]
  },
  {
   "cell_type": "markdown",
   "id": "cordless-roman",
   "metadata": {},
   "source": [
    "### 1.8 Other Array Operations\n",
    "\n",
    "NumPy provides many more built-in functions and methods for performing operations on data arrays. Descriptions are all available in the NumPy documentation. \n",
    "\n",
    "**Important Tip:** If you are ever considering writing a loop to process a data array one element at a time, there are probably more efficient methods using array operations and array broadcasting. Stack Overflow is very helpful for finding these tricks."
   ]
  },
  {
   "cell_type": "markdown",
   "id": "discrete-savage",
   "metadata": {},
   "source": [
    "# 2. Pandas\n",
    "\n",
    "The Pandas library simplifies the import and manipulation of labeled data arrays (arrays where the rows and columns have names). \n",
    "\n",
    "This section provides examples of some common Pandas operations you are likely to run into when preparing data for ML:\n",
    "\n",
    "* 2.1 Loading (Importing) Data\n",
    "* 2.2 Basic Data Exploration\n",
    "* 2.3 Handling Time Series\n",
    "* 2.4 Plotting Data\n",
    "* 2.5 Additional Pandas Operations\n",
    "\n",
    "\n"
   ]
  },
  {
   "cell_type": "code",
   "execution_count": 37,
   "id": "useful-banking",
   "metadata": {},
   "outputs": [],
   "source": [
    "# load library\n",
    "import pandas as pd"
   ]
  },
  {
   "cell_type": "markdown",
   "id": "congressional-alcohol",
   "metadata": {},
   "source": [
    "### 2.1 Loading (Importing) Data\n",
    "\n",
    "Pandas lets you easily import data from CSV, Excel, and JSON files. Let's explore the cta-ridership.csv dataset from the Chicago Data Portal with information about rides on the Chicago \"L\" system. The first step is to import the data and see what it looks like"
   ]
  },
  {
   "cell_type": "code",
   "execution_count": 38,
   "id": "58479a21-b02b-453b-9099-43cebfb61783",
   "metadata": {},
   "outputs": [
    {
     "data": {
      "text/html": [
       "<div>\n",
       "<style scoped>\n",
       "    .dataframe tbody tr th:only-of-type {\n",
       "        vertical-align: middle;\n",
       "    }\n",
       "\n",
       "    .dataframe tbody tr th {\n",
       "        vertical-align: top;\n",
       "    }\n",
       "\n",
       "    .dataframe thead th {\n",
       "        text-align: right;\n",
       "    }\n",
       "</style>\n",
       "<table border=\"1\" class=\"dataframe\">\n",
       "  <thead>\n",
       "    <tr style=\"text-align: right;\">\n",
       "      <th></th>\n",
       "      <th>station_id</th>\n",
       "      <th>stationname</th>\n",
       "      <th>date</th>\n",
       "      <th>daytype</th>\n",
       "      <th>rides</th>\n",
       "    </tr>\n",
       "  </thead>\n",
       "  <tbody>\n",
       "    <tr>\n",
       "      <th>0</th>\n",
       "      <td>41280</td>\n",
       "      <td>Jefferson Park</td>\n",
       "      <td>12/22/2017</td>\n",
       "      <td>W</td>\n",
       "      <td>6104</td>\n",
       "    </tr>\n",
       "    <tr>\n",
       "      <th>1</th>\n",
       "      <td>41000</td>\n",
       "      <td>Cermak-Chinatown</td>\n",
       "      <td>12/18/2017</td>\n",
       "      <td>W</td>\n",
       "      <td>3636</td>\n",
       "    </tr>\n",
       "    <tr>\n",
       "      <th>2</th>\n",
       "      <td>40280</td>\n",
       "      <td>Central-Lake</td>\n",
       "      <td>12/02/2017</td>\n",
       "      <td>A</td>\n",
       "      <td>1270</td>\n",
       "    </tr>\n",
       "    <tr>\n",
       "      <th>3</th>\n",
       "      <td>40140</td>\n",
       "      <td>Dempster-Skokie</td>\n",
       "      <td>12/19/2017</td>\n",
       "      <td>W</td>\n",
       "      <td>1759</td>\n",
       "    </tr>\n",
       "  </tbody>\n",
       "</table>\n",
       "</div>"
      ],
      "text/plain": [
       "   station_id       stationname        date daytype  rides\n",
       "0       41280    Jefferson Park  12/22/2017       W   6104\n",
       "1       41000  Cermak-Chinatown  12/18/2017       W   3636\n",
       "2       40280      Central-Lake  12/02/2017       A   1270\n",
       "3       40140   Dempster-Skokie  12/19/2017       W   1759"
      ]
     },
     "execution_count": 38,
     "metadata": {},
     "output_type": "execute_result"
    }
   ],
   "source": [
    "df = pd.read_csv('cta-ridership.csv')\n",
    "df.head(4)"
   ]
  },
  {
   "cell_type": "markdown",
   "id": "eligible-enterprise",
   "metadata": {},
   "source": [
    "### 2.2 Basic Data Exploration"
   ]
  },
  {
   "cell_type": "markdown",
   "id": "adjacent-wallace",
   "metadata": {},
   "source": [
    "Just from looking at the first 5 rows, we can get an understanding of the type of the data.  There's a station identifier and name, a date on which the statistic takes place, the day type, and the number of rides for that date.\n",
    "\n",
    "It's not immediately clear what A/W, is, but looking at the description of the dataset here:\n",
    "https://data.cityofchicago.org/Transportation/CTA-Ridership-L-Station-Entries-Daily-Totals/5neh-572f tells us that this column indicates that we are looking at a weekday, weekend, or holiday.\n",
    "\n",
    "We can then explore some basic characteristics of the data, including the size of the dataset, min/max/etc. to explore outliers, etc. This basic exploration allows us to spot potential outliers and mistakes in the data."
   ]
  },
  {
   "cell_type": "code",
   "execution_count": 39,
   "id": "special-alaska",
   "metadata": {},
   "outputs": [
    {
     "data": {
      "text/plain": [
       "(1028040, 5)"
      ]
     },
     "execution_count": 39,
     "metadata": {},
     "output_type": "execute_result"
    }
   ],
   "source": [
    "df.shape"
   ]
  },
  {
   "cell_type": "markdown",
   "id": "careful-corrections",
   "metadata": {},
   "source": [
    "So the data has 1028040 rows and 5 columns"
   ]
  },
  {
   "cell_type": "code",
   "execution_count": 40,
   "id": "considerable-migration",
   "metadata": {},
   "outputs": [
    {
     "data": {
      "text/html": [
       "<div>\n",
       "<style scoped>\n",
       "    .dataframe tbody tr th:only-of-type {\n",
       "        vertical-align: middle;\n",
       "    }\n",
       "\n",
       "    .dataframe tbody tr th {\n",
       "        vertical-align: top;\n",
       "    }\n",
       "\n",
       "    .dataframe thead th {\n",
       "        text-align: right;\n",
       "    }\n",
       "</style>\n",
       "<table border=\"1\" class=\"dataframe\">\n",
       "  <thead>\n",
       "    <tr style=\"text-align: right;\">\n",
       "      <th></th>\n",
       "      <th>station_id</th>\n",
       "      <th>rides</th>\n",
       "    </tr>\n",
       "  </thead>\n",
       "  <tbody>\n",
       "    <tr>\n",
       "      <th>count</th>\n",
       "      <td>1.028040e+06</td>\n",
       "      <td>1.028040e+06</td>\n",
       "    </tr>\n",
       "    <tr>\n",
       "      <th>mean</th>\n",
       "      <td>4.076423e+04</td>\n",
       "      <td>3.247045e+03</td>\n",
       "    </tr>\n",
       "    <tr>\n",
       "      <th>std</th>\n",
       "      <td>4.477007e+02</td>\n",
       "      <td>3.201788e+03</td>\n",
       "    </tr>\n",
       "    <tr>\n",
       "      <th>min</th>\n",
       "      <td>4.001000e+04</td>\n",
       "      <td>0.000000e+00</td>\n",
       "    </tr>\n",
       "    <tr>\n",
       "      <th>25%</th>\n",
       "      <td>4.037000e+04</td>\n",
       "      <td>1.065000e+03</td>\n",
       "    </tr>\n",
       "    <tr>\n",
       "      <th>50%</th>\n",
       "      <td>4.076000e+04</td>\n",
       "      <td>2.225000e+03</td>\n",
       "    </tr>\n",
       "    <tr>\n",
       "      <th>75%</th>\n",
       "      <td>4.115000e+04</td>\n",
       "      <td>4.267000e+03</td>\n",
       "    </tr>\n",
       "    <tr>\n",
       "      <th>max</th>\n",
       "      <td>4.170000e+04</td>\n",
       "      <td>3.632300e+04</td>\n",
       "    </tr>\n",
       "  </tbody>\n",
       "</table>\n",
       "</div>"
      ],
      "text/plain": [
       "         station_id         rides\n",
       "count  1.028040e+06  1.028040e+06\n",
       "mean   4.076423e+04  3.247045e+03\n",
       "std    4.477007e+02  3.201788e+03\n",
       "min    4.001000e+04  0.000000e+00\n",
       "25%    4.037000e+04  1.065000e+03\n",
       "50%    4.076000e+04  2.225000e+03\n",
       "75%    4.115000e+04  4.267000e+03\n",
       "max    4.170000e+04  3.632300e+04"
      ]
     },
     "execution_count": 40,
     "metadata": {},
     "output_type": "execute_result"
    }
   ],
   "source": [
    "df.describe()"
   ]
  },
  {
   "cell_type": "markdown",
   "id": "italic-mauritius",
   "metadata": {},
   "source": [
    "We notice that there is a station with no rides (minimum is zero!). Also, the station with the maximum number of rides appears to be about 10x the mean and median. Let's have a look at what station that is."
   ]
  },
  {
   "cell_type": "code",
   "execution_count": 41,
   "id": "continuing-matthew",
   "metadata": {},
   "outputs": [
    {
     "data": {
      "text/html": [
       "<div>\n",
       "<style scoped>\n",
       "    .dataframe tbody tr th:only-of-type {\n",
       "        vertical-align: middle;\n",
       "    }\n",
       "\n",
       "    .dataframe tbody tr th {\n",
       "        vertical-align: top;\n",
       "    }\n",
       "\n",
       "    .dataframe thead th {\n",
       "        text-align: right;\n",
       "    }\n",
       "</style>\n",
       "<table border=\"1\" class=\"dataframe\">\n",
       "  <thead>\n",
       "    <tr style=\"text-align: right;\">\n",
       "      <th></th>\n",
       "      <th>station_id</th>\n",
       "      <th>stationname</th>\n",
       "      <th>date</th>\n",
       "      <th>daytype</th>\n",
       "      <th>rides</th>\n",
       "    </tr>\n",
       "  </thead>\n",
       "  <tbody>\n",
       "    <tr>\n",
       "      <th>825568</th>\n",
       "      <td>41320</td>\n",
       "      <td>Belmont-North Main</td>\n",
       "      <td>06/28/2015</td>\n",
       "      <td>U</td>\n",
       "      <td>36323</td>\n",
       "    </tr>\n",
       "  </tbody>\n",
       "</table>\n",
       "</div>"
      ],
      "text/plain": [
       "        station_id         stationname        date daytype  rides\n",
       "825568       41320  Belmont-North Main  06/28/2015       U  36323"
      ]
     },
     "execution_count": 41,
     "metadata": {},
     "output_type": "execute_result"
    }
   ],
   "source": [
    "# find the station with the most rides. This expression uses a technique called \"boolean indexing\" and may take some work to parse. Try to sort out what's going on before proceeding\n",
    "df[ df['rides'] == np.max(df['rides']) ].head(1)"
   ]
  },
  {
   "cell_type": "markdown",
   "id": "boxed-swift",
   "metadata": {},
   "source": [
    "We can also find the stations with 0 rides on particular days:"
   ]
  },
  {
   "cell_type": "code",
   "execution_count": 42,
   "id": "attached-hawaiian",
   "metadata": {},
   "outputs": [
    {
     "data": {
      "text/html": [
       "<div>\n",
       "<style scoped>\n",
       "    .dataframe tbody tr th:only-of-type {\n",
       "        vertical-align: middle;\n",
       "    }\n",
       "\n",
       "    .dataframe tbody tr th {\n",
       "        vertical-align: top;\n",
       "    }\n",
       "\n",
       "    .dataframe thead th {\n",
       "        text-align: right;\n",
       "    }\n",
       "</style>\n",
       "<table border=\"1\" class=\"dataframe\">\n",
       "  <thead>\n",
       "    <tr style=\"text-align: right;\">\n",
       "      <th></th>\n",
       "      <th>station_id</th>\n",
       "      <th>stationname</th>\n",
       "      <th>date</th>\n",
       "      <th>daytype</th>\n",
       "      <th>rides</th>\n",
       "    </tr>\n",
       "  </thead>\n",
       "  <tbody>\n",
       "    <tr>\n",
       "      <th>23</th>\n",
       "      <td>40200</td>\n",
       "      <td>Randolph/Wabash</td>\n",
       "      <td>12/25/2017</td>\n",
       "      <td>U</td>\n",
       "      <td>0</td>\n",
       "    </tr>\n",
       "    <tr>\n",
       "      <th>110</th>\n",
       "      <td>40640</td>\n",
       "      <td>Madison/Wabash</td>\n",
       "      <td>12/05/2017</td>\n",
       "      <td>W</td>\n",
       "      <td>0</td>\n",
       "    </tr>\n",
       "    <tr>\n",
       "      <th>333</th>\n",
       "      <td>40640</td>\n",
       "      <td>Madison/Wabash</td>\n",
       "      <td>12/03/2017</td>\n",
       "      <td>U</td>\n",
       "      <td>0</td>\n",
       "    </tr>\n",
       "    <tr>\n",
       "      <th>354</th>\n",
       "      <td>40640</td>\n",
       "      <td>Madison/Wabash</td>\n",
       "      <td>12/11/2017</td>\n",
       "      <td>W</td>\n",
       "      <td>0</td>\n",
       "    </tr>\n",
       "    <tr>\n",
       "      <th>423</th>\n",
       "      <td>40640</td>\n",
       "      <td>Madison/Wabash</td>\n",
       "      <td>12/30/2017</td>\n",
       "      <td>A</td>\n",
       "      <td>0</td>\n",
       "    </tr>\n",
       "  </tbody>\n",
       "</table>\n",
       "</div>"
      ],
      "text/plain": [
       "     station_id      stationname        date daytype  rides\n",
       "23        40200  Randolph/Wabash  12/25/2017       U      0\n",
       "110       40640   Madison/Wabash  12/05/2017       W      0\n",
       "333       40640   Madison/Wabash  12/03/2017       U      0\n",
       "354       40640   Madison/Wabash  12/11/2017       W      0\n",
       "423       40640   Madison/Wabash  12/30/2017       A      0"
      ]
     },
     "execution_count": 42,
     "metadata": {},
     "output_type": "execute_result"
    }
   ],
   "source": [
    "# find stations/day combos with 0 rides \n",
    "zero = df[df['rides'] == 0]\n",
    "\n",
    "# display 5 of them|\n",
    "zero.head(5)"
   ]
  },
  {
   "cell_type": "markdown",
   "id": "optimum-aside",
   "metadata": {},
   "source": [
    "Looks like a lot of weekends and holidays.  We can group by columns and types to get a better understanding of what might be going on. We then use these groups to count how many dates a station had zero rides and sort these in descending order."
   ]
  },
  {
   "cell_type": "code",
   "execution_count": 43,
   "id": "cheap-ranking",
   "metadata": {},
   "outputs": [
    {
     "data": {
      "text/html": [
       "<div>\n",
       "<style scoped>\n",
       "    .dataframe tbody tr th:only-of-type {\n",
       "        vertical-align: middle;\n",
       "    }\n",
       "\n",
       "    .dataframe tbody tr th {\n",
       "        vertical-align: top;\n",
       "    }\n",
       "\n",
       "    .dataframe thead th {\n",
       "        text-align: right;\n",
       "    }\n",
       "</style>\n",
       "<table border=\"1\" class=\"dataframe\">\n",
       "  <thead>\n",
       "    <tr style=\"text-align: right;\">\n",
       "      <th></th>\n",
       "      <th></th>\n",
       "      <th></th>\n",
       "      <th>station_id</th>\n",
       "      <th>rides</th>\n",
       "    </tr>\n",
       "    <tr>\n",
       "      <th>stationname</th>\n",
       "      <th>daytype</th>\n",
       "      <th>date</th>\n",
       "      <th></th>\n",
       "      <th></th>\n",
       "    </tr>\n",
       "  </thead>\n",
       "  <tbody>\n",
       "    <tr>\n",
       "      <th>Randolph/Wabash</th>\n",
       "      <th>W</th>\n",
       "      <th>12/31/2018</th>\n",
       "      <td>1</td>\n",
       "      <td>1</td>\n",
       "    </tr>\n",
       "    <tr>\n",
       "      <th>Madison/Wabash</th>\n",
       "      <th>U</th>\n",
       "      <th>12/31/2017</th>\n",
       "      <td>1</td>\n",
       "      <td>1</td>\n",
       "    </tr>\n",
       "    <tr>\n",
       "      <th>Randolph/Wabash</th>\n",
       "      <th>U</th>\n",
       "      <th>12/31/2017</th>\n",
       "      <td>1</td>\n",
       "      <td>1</td>\n",
       "    </tr>\n",
       "    <tr>\n",
       "      <th>Washington/State</th>\n",
       "      <th>W</th>\n",
       "      <th>12/31/2008</th>\n",
       "      <td>1</td>\n",
       "      <td>1</td>\n",
       "    </tr>\n",
       "    <tr>\n",
       "      <th>Paulina</th>\n",
       "      <th>W</th>\n",
       "      <th>12/31/2008</th>\n",
       "      <td>1</td>\n",
       "      <td>1</td>\n",
       "    </tr>\n",
       "    <tr>\n",
       "      <th>...</th>\n",
       "      <th>...</th>\n",
       "      <th>...</th>\n",
       "      <td>...</td>\n",
       "      <td>...</td>\n",
       "    </tr>\n",
       "    <tr>\n",
       "      <th>54th/Cermak</th>\n",
       "      <th>U</th>\n",
       "      <th>01/01/2001</th>\n",
       "      <td>1</td>\n",
       "      <td>1</td>\n",
       "    </tr>\n",
       "    <tr>\n",
       "      <th>Polk</th>\n",
       "      <th>U</th>\n",
       "      <th>01/01/2001</th>\n",
       "      <td>1</td>\n",
       "      <td>1</td>\n",
       "    </tr>\n",
       "    <tr>\n",
       "      <th>Kedzie-Cermak</th>\n",
       "      <th>U</th>\n",
       "      <th>01/01/2001</th>\n",
       "      <td>1</td>\n",
       "      <td>1</td>\n",
       "    </tr>\n",
       "    <tr>\n",
       "      <th>Western-Cermak</th>\n",
       "      <th>U</th>\n",
       "      <th>01/01/2001</th>\n",
       "      <td>1</td>\n",
       "      <td>1</td>\n",
       "    </tr>\n",
       "    <tr>\n",
       "      <th>18th</th>\n",
       "      <th>U</th>\n",
       "      <th>01/01/2001</th>\n",
       "      <td>1</td>\n",
       "      <td>1</td>\n",
       "    </tr>\n",
       "  </tbody>\n",
       "</table>\n",
       "<p>12250 rows × 2 columns</p>\n",
       "</div>"
      ],
      "text/plain": [
       "                                     station_id  rides\n",
       "stationname      daytype date                         \n",
       "Randolph/Wabash  W       12/31/2018           1      1\n",
       "Madison/Wabash   U       12/31/2017           1      1\n",
       "Randolph/Wabash  U       12/31/2017           1      1\n",
       "Washington/State W       12/31/2008           1      1\n",
       "Paulina          W       12/31/2008           1      1\n",
       "...                                         ...    ...\n",
       "54th/Cermak      U       01/01/2001           1      1\n",
       "Polk             U       01/01/2001           1      1\n",
       "Kedzie-Cermak    U       01/01/2001           1      1\n",
       "Western-Cermak   U       01/01/2001           1      1\n",
       "18th             U       01/01/2001           1      1\n",
       "\n",
       "[12250 rows x 2 columns]"
      ]
     },
     "execution_count": 43,
     "metadata": {},
     "output_type": "execute_result"
    }
   ],
   "source": [
    "zerogroups = zero.groupby(['stationname','daytype', 'date']).count()\n",
    "zerogroups.sort_values(by=['date'],ascending=False)"
   ]
  },
  {
   "cell_type": "markdown",
   "id": "molecular-somewhere",
   "metadata": {},
   "source": [
    "It should be clear from a little bit of research why some of the stations at the top of the list report dates with 0 rides. If you're curious, do some searching to find out!"
   ]
  },
  {
   "cell_type": "markdown",
   "id": "guided-bible",
   "metadata": {},
   "source": [
    "**Note:** The groupby() function is very powerful, enabling statistics and feature extraction from combinations (groups) of data attributes. However, groupby() does not return an array directly, but a GroupBy object that must have other functions applied to it to be useful. Again, the Pandas documentation and Stack Overflow are your friends. "
   ]
  },
  {
   "cell_type": "markdown",
   "id": "dietary-raleigh",
   "metadata": {},
   "source": [
    "### 2.3 Handling Time Series\n",
    "\n",
    "Many ML problems involve identifying temporal patterns in data. Pandas makes it easy to treat columns of a dataset as dates and handle them appropriately (although some ML algorithms will require conversion into a specific time format, e.g. UNIX time)\n",
    "\n",
    "Let's continue with the CTA ridership data for this section. First, lets see what the time range is in the dataset"
   ]
  },
  {
   "cell_type": "code",
   "execution_count": 44,
   "id": "solved-adult",
   "metadata": {},
   "outputs": [
    {
     "data": {
      "text/plain": [
       "'01/01/2001'"
      ]
     },
     "execution_count": 44,
     "metadata": {},
     "output_type": "execute_result"
    }
   ],
   "source": [
    "np.min(df['date'])"
   ]
  },
  {
   "cell_type": "code",
   "execution_count": 45,
   "id": "owned-staff",
   "metadata": {},
   "outputs": [
    {
     "data": {
      "text/plain": [
       "'12/31/2019'"
      ]
     },
     "execution_count": 45,
     "metadata": {},
     "output_type": "execute_result"
    }
   ],
   "source": [
    "np.max(df['date'])"
   ]
  },
  {
   "cell_type": "markdown",
   "id": "active-johns",
   "metadata": {},
   "source": [
    "So we have all rides from January 1, 2001 to December 31, 2019. Let's do some statistics that group rides by date. First we need to tell Pandas that the date column is in fact a date. So, we convert the column to a proper 'DateTime' type, and then set the index to this column."
   ]
  },
  {
   "cell_type": "code",
   "execution_count": 46,
   "id": "polyphonic-launch",
   "metadata": {},
   "outputs": [
    {
     "data": {
      "text/html": [
       "<div>\n",
       "<style scoped>\n",
       "    .dataframe tbody tr th:only-of-type {\n",
       "        vertical-align: middle;\n",
       "    }\n",
       "\n",
       "    .dataframe tbody tr th {\n",
       "        vertical-align: top;\n",
       "    }\n",
       "\n",
       "    .dataframe thead th {\n",
       "        text-align: right;\n",
       "    }\n",
       "</style>\n",
       "<table border=\"1\" class=\"dataframe\">\n",
       "  <thead>\n",
       "    <tr style=\"text-align: right;\">\n",
       "      <th></th>\n",
       "      <th>station_id</th>\n",
       "      <th>stationname</th>\n",
       "      <th>daytype</th>\n",
       "      <th>rides</th>\n",
       "    </tr>\n",
       "    <tr>\n",
       "      <th>date</th>\n",
       "      <th></th>\n",
       "      <th></th>\n",
       "      <th></th>\n",
       "      <th></th>\n",
       "    </tr>\n",
       "  </thead>\n",
       "  <tbody>\n",
       "    <tr>\n",
       "      <th>2017-12-22</th>\n",
       "      <td>41280</td>\n",
       "      <td>Jefferson Park</td>\n",
       "      <td>W</td>\n",
       "      <td>6104</td>\n",
       "    </tr>\n",
       "    <tr>\n",
       "      <th>2017-12-18</th>\n",
       "      <td>41000</td>\n",
       "      <td>Cermak-Chinatown</td>\n",
       "      <td>W</td>\n",
       "      <td>3636</td>\n",
       "    </tr>\n",
       "    <tr>\n",
       "      <th>2017-12-02</th>\n",
       "      <td>40280</td>\n",
       "      <td>Central-Lake</td>\n",
       "      <td>A</td>\n",
       "      <td>1270</td>\n",
       "    </tr>\n",
       "    <tr>\n",
       "      <th>2017-12-19</th>\n",
       "      <td>40140</td>\n",
       "      <td>Dempster-Skokie</td>\n",
       "      <td>W</td>\n",
       "      <td>1759</td>\n",
       "    </tr>\n",
       "    <tr>\n",
       "      <th>2017-12-03</th>\n",
       "      <td>40690</td>\n",
       "      <td>Dempster</td>\n",
       "      <td>U</td>\n",
       "      <td>499</td>\n",
       "    </tr>\n",
       "    <tr>\n",
       "      <th>2017-12-30</th>\n",
       "      <td>41660</td>\n",
       "      <td>Lake/State</td>\n",
       "      <td>A</td>\n",
       "      <td>8615</td>\n",
       "    </tr>\n",
       "    <tr>\n",
       "      <th>2017-12-17</th>\n",
       "      <td>40180</td>\n",
       "      <td>Oak Park-Forest Park</td>\n",
       "      <td>U</td>\n",
       "      <td>442</td>\n",
       "    </tr>\n",
       "    <tr>\n",
       "      <th>2017-12-02</th>\n",
       "      <td>40250</td>\n",
       "      <td>Kedzie-Homan-Forest Park</td>\n",
       "      <td>A</td>\n",
       "      <td>1353</td>\n",
       "    </tr>\n",
       "    <tr>\n",
       "      <th>2017-12-07</th>\n",
       "      <td>40120</td>\n",
       "      <td>35th/Archer</td>\n",
       "      <td>W</td>\n",
       "      <td>3353</td>\n",
       "    </tr>\n",
       "    <tr>\n",
       "      <th>2017-12-19</th>\n",
       "      <td>41420</td>\n",
       "      <td>Addison-North Main</td>\n",
       "      <td>W</td>\n",
       "      <td>6034</td>\n",
       "    </tr>\n",
       "  </tbody>\n",
       "</table>\n",
       "</div>"
      ],
      "text/plain": [
       "            station_id               stationname daytype  rides\n",
       "date                                                           \n",
       "2017-12-22       41280            Jefferson Park       W   6104\n",
       "2017-12-18       41000          Cermak-Chinatown       W   3636\n",
       "2017-12-02       40280              Central-Lake       A   1270\n",
       "2017-12-19       40140           Dempster-Skokie       W   1759\n",
       "2017-12-03       40690                  Dempster       U    499\n",
       "2017-12-30       41660                Lake/State       A   8615\n",
       "2017-12-17       40180      Oak Park-Forest Park       U    442\n",
       "2017-12-02       40250  Kedzie-Homan-Forest Park       A   1353\n",
       "2017-12-07       40120               35th/Archer       W   3353\n",
       "2017-12-19       41420        Addison-North Main       W   6034"
      ]
     },
     "execution_count": 46,
     "metadata": {},
     "output_type": "execute_result"
    }
   ],
   "source": [
    "# change the 'date' column to a datetime object and set that column as the index of the dataset\n",
    "df['date'] = pd.to_datetime(df['date'])\n",
    "df.set_index('date', inplace=True)\n",
    "\n",
    "df.head(10)"
   ]
  },
  {
   "cell_type": "markdown",
   "id": "afraid-wichita",
   "metadata": {},
   "source": [
    "Now the date column is the index, but the rows are not sorted chronologically. We can fix this with a sort function."
   ]
  },
  {
   "cell_type": "code",
   "execution_count": 47,
   "id": "copyrighted-prospect",
   "metadata": {},
   "outputs": [
    {
     "data": {
      "text/html": [
       "<div>\n",
       "<style scoped>\n",
       "    .dataframe tbody tr th:only-of-type {\n",
       "        vertical-align: middle;\n",
       "    }\n",
       "\n",
       "    .dataframe tbody tr th {\n",
       "        vertical-align: top;\n",
       "    }\n",
       "\n",
       "    .dataframe thead th {\n",
       "        text-align: right;\n",
       "    }\n",
       "</style>\n",
       "<table border=\"1\" class=\"dataframe\">\n",
       "  <thead>\n",
       "    <tr style=\"text-align: right;\">\n",
       "      <th></th>\n",
       "      <th>station_id</th>\n",
       "      <th>stationname</th>\n",
       "      <th>daytype</th>\n",
       "      <th>rides</th>\n",
       "    </tr>\n",
       "    <tr>\n",
       "      <th>date</th>\n",
       "      <th></th>\n",
       "      <th></th>\n",
       "      <th></th>\n",
       "      <th></th>\n",
       "    </tr>\n",
       "  </thead>\n",
       "  <tbody>\n",
       "    <tr>\n",
       "      <th>2001-01-01</th>\n",
       "      <td>41660</td>\n",
       "      <td>Lake/State</td>\n",
       "      <td>U</td>\n",
       "      <td>2942</td>\n",
       "    </tr>\n",
       "    <tr>\n",
       "      <th>2001-01-01</th>\n",
       "      <td>40330</td>\n",
       "      <td>Grand/State</td>\n",
       "      <td>U</td>\n",
       "      <td>2542</td>\n",
       "    </tr>\n",
       "    <tr>\n",
       "      <th>2001-01-01</th>\n",
       "      <td>40490</td>\n",
       "      <td>Grand/Milwaukee</td>\n",
       "      <td>U</td>\n",
       "      <td>182</td>\n",
       "    </tr>\n",
       "    <tr>\n",
       "      <th>2001-01-01</th>\n",
       "      <td>41170</td>\n",
       "      <td>Garfield-Dan Ryan</td>\n",
       "      <td>U</td>\n",
       "      <td>1457</td>\n",
       "    </tr>\n",
       "    <tr>\n",
       "      <th>2001-01-01</th>\n",
       "      <td>40790</td>\n",
       "      <td>Monroe/Dearborn</td>\n",
       "      <td>U</td>\n",
       "      <td>342</td>\n",
       "    </tr>\n",
       "    <tr>\n",
       "      <th>2001-01-01</th>\n",
       "      <td>40240</td>\n",
       "      <td>79th</td>\n",
       "      <td>U</td>\n",
       "      <td>2470</td>\n",
       "    </tr>\n",
       "    <tr>\n",
       "      <th>2001-01-01</th>\n",
       "      <td>41320</td>\n",
       "      <td>Belmont-North Main</td>\n",
       "      <td>U</td>\n",
       "      <td>2872</td>\n",
       "    </tr>\n",
       "    <tr>\n",
       "      <th>2001-01-01</th>\n",
       "      <td>40020</td>\n",
       "      <td>Harlem-Lake</td>\n",
       "      <td>U</td>\n",
       "      <td>633</td>\n",
       "    </tr>\n",
       "    <tr>\n",
       "      <th>2001-01-01</th>\n",
       "      <td>41190</td>\n",
       "      <td>Jarvis</td>\n",
       "      <td>U</td>\n",
       "      <td>590</td>\n",
       "    </tr>\n",
       "    <tr>\n",
       "      <th>2001-01-01</th>\n",
       "      <td>40040</td>\n",
       "      <td>Quincy/Wells</td>\n",
       "      <td>U</td>\n",
       "      <td>374</td>\n",
       "    </tr>\n",
       "  </tbody>\n",
       "</table>\n",
       "</div>"
      ],
      "text/plain": [
       "            station_id         stationname daytype  rides\n",
       "date                                                     \n",
       "2001-01-01       41660          Lake/State       U   2942\n",
       "2001-01-01       40330         Grand/State       U   2542\n",
       "2001-01-01       40490     Grand/Milwaukee       U    182\n",
       "2001-01-01       41170   Garfield-Dan Ryan       U   1457\n",
       "2001-01-01       40790     Monroe/Dearborn       U    342\n",
       "2001-01-01       40240                79th       U   2470\n",
       "2001-01-01       41320  Belmont-North Main       U   2872\n",
       "2001-01-01       40020         Harlem-Lake       U    633\n",
       "2001-01-01       41190              Jarvis       U    590\n",
       "2001-01-01       40040        Quincy/Wells       U    374"
      ]
     },
     "execution_count": 47,
     "metadata": {},
     "output_type": "execute_result"
    }
   ],
   "source": [
    "# Sort the columns by date\n",
    "rides_by_date = df.sort_values(by='date')\n",
    "\n",
    "rides_by_date.head(10)"
   ]
  },
  {
   "cell_type": "markdown",
   "id": "rotary-database",
   "metadata": {},
   "source": [
    "That looks better. But it sure would be easier to visualize this data in the form of a plot..."
   ]
  },
  {
   "cell_type": "markdown",
   "id": "unlimited-technician",
   "metadata": {},
   "source": [
    "### 2.4 Plotting Data\n",
    "\n",
    "Plotting data is extremely useful for understanding it's properties. We will be using a combination of the Matplotlib, Seaborn, and Pandas libraries for plotting data in this class. \n",
    "Plotting is as much an art as a science, and everything you learned in middle and high school science classes about making plots clear, nondeceptive, and well-labeled still applies here."
   ]
  },
  {
   "cell_type": "code",
   "execution_count": 48,
   "id": "harmful-pricing",
   "metadata": {},
   "outputs": [],
   "source": [
    "# import libraries\n",
    "import matplotlib.pyplot as plt\n",
    "import seaborn as sns\n",
    "\n",
    "# Tell Jupyter notebooks to put the plot below the cell rather than in a separate window\n",
    "%matplotlib inline \n",
    "\n",
    "# set the size of the plot\n",
    "sns.set(rc={'figure.figsize':(15, 5)})"
   ]
  },
  {
   "cell_type": "markdown",
   "id": "needed-piece",
   "metadata": {},
   "source": [
    "The following example shows one way to plot the CTA ridership from the Garfield Green station over time:"
   ]
  },
  {
   "cell_type": "code",
   "execution_count": 49,
   "id": "beautiful-quest",
   "metadata": {},
   "outputs": [
    {
     "data": {
      "text/plain": [
       "Text(0.5, 0, 'Date')"
      ]
     },
     "execution_count": 49,
     "metadata": {},
     "output_type": "execute_result"
    },
    {
     "data": {
      "image/png": "[encoded data removed]",
      "text/plain": [
       "<Figure size 1080x360 with 1 Axes>"
      ]
     },
     "metadata": {},
     "output_type": "display_data"
    }
   ],
   "source": [
    "# select rides from the Garfield Green Line station\n",
    "garfield_green = rides_by_date[rides_by_date['stationname'] == 'Garfield-South Elevated']\n",
    "\n",
    "# plot the rides using the Pandas plot method\n",
    "garfield_green['rides'].plot(linewidth=0.5)\n",
    "\n",
    "# Label the plot\n",
    "plt.ylabel(\"Rides\")\n",
    "plt.xlabel(\"Date\")\n",
    "# There are many more matplotlib functions for making plots prettier. The Matplotlib documentation has examples of their use, and we will see more in future class exercises"
   ]
  },
  {
   "cell_type": "markdown",
   "id": "quarterly-positive",
   "metadata": {},
   "source": [
    "This indicates that something unusual may have happened near the Garfield Green Line in the early part of 2014...that or there was a problem with the data collection during that period that resulted in inflated ridership counts"
   ]
  },
  {
   "cell_type": "markdown",
   "id": "continuing-hacker",
   "metadata": {},
   "source": [
    "### 2.5 Additional Pandas Operations\n",
    "Like NumPy, Pandas comes with many more builtin functions and methods for manipulating data. Descriptions are all available in the Pandas documentation, and Google searches are a good place to start if you want to know how to do something specific."
   ]
  },
  {
   "cell_type": "code",
   "execution_count": null,
   "id": "5075d4cb-9f0d-4e10-9c47-717610e1f315",
   "metadata": {},
   "outputs": [],
   "source": []
  },
  {
   "cell_type": "markdown",
   "id": "interpreted-boating",
   "metadata": {},
   "source": [
    "# Part 3. Try It Yourself\n",
    "\n",
    "In this section, you will try writing your own code to answer the following questions about the CTA ridership data. Your code should print the answer to the questions with as little extra \"fluff\" as possible\n",
    "\n",
    "#### 3.1 What is the number of rows and columns in the data set? \n",
    "\n",
    "This is a repeat from above, but it is crucial to understanding the data"
   ]
  },
  {
   "cell_type": "code",
   "execution_count": 50,
   "id": "unlimited-japanese",
   "metadata": {},
   "outputs": [
    {
     "data": {
      "text/plain": [
       "(1028040, 4)"
      ]
     },
     "execution_count": 50,
     "metadata": {},
     "output_type": "execute_result"
    }
   ],
   "source": [
    "df.shape"
   ]
  },
  {
   "cell_type": "markdown",
   "id": "public-casting",
   "metadata": {},
   "source": [
    "#### 3.2 What are the start and end dates of the rides in the data set?\n",
    "\n",
    "It is typically important to understand basic information about the data, such as when it starts and ends. Performing these kinds of basic sanity checks on the data is critical and something you should always do when exploring a new dataset."
   ]
  },
  {
   "cell_type": "code",
   "execution_count": 13,
   "id": "limiting-zoning",
   "metadata": {},
   "outputs": [
    {
     "data": {
      "text/plain": [
       "'12/31/2019'"
      ]
     },
     "execution_count": 13,
     "metadata": {},
     "output_type": "execute_result"
    }
   ],
   "source": [
    "np.min(df['date'])\n",
    "np.max(df['date'])"
   ]
  },
  {
   "cell_type": "markdown",
   "id": "robust-parallel",
   "metadata": {},
   "source": [
    "#### 3.3 What are the five stations with the most rides?\n"
   ]
  },
  {
   "cell_type": "code",
   "execution_count": 14,
   "id": "random-requirement",
   "metadata": {},
   "outputs": [
    {
     "data": {
      "text/html": [
       "<div>\n",
       "<style scoped>\n",
       "    .dataframe tbody tr th:only-of-type {\n",
       "        vertical-align: middle;\n",
       "    }\n",
       "\n",
       "    .dataframe tbody tr th {\n",
       "        vertical-align: top;\n",
       "    }\n",
       "\n",
       "    .dataframe thead th {\n",
       "        text-align: right;\n",
       "    }\n",
       "</style>\n",
       "<table border=\"1\" class=\"dataframe\">\n",
       "  <thead>\n",
       "    <tr style=\"text-align: right;\">\n",
       "      <th></th>\n",
       "      <th>station_id</th>\n",
       "      <th>stationname</th>\n",
       "      <th>date</th>\n",
       "      <th>daytype</th>\n",
       "      <th>rides</th>\n",
       "    </tr>\n",
       "  </thead>\n",
       "  <tbody>\n",
       "    <tr>\n",
       "      <th>825568</th>\n",
       "      <td>41320</td>\n",
       "      <td>Belmont-North Main</td>\n",
       "      <td>06/28/2015</td>\n",
       "      <td>U</td>\n",
       "      <td>36323</td>\n",
       "    </tr>\n",
       "    <tr>\n",
       "      <th>352682</th>\n",
       "      <td>41320</td>\n",
       "      <td>Belmont-North Main</td>\n",
       "      <td>06/24/2012</td>\n",
       "      <td>U</td>\n",
       "      <td>36017</td>\n",
       "    </tr>\n",
       "    <tr>\n",
       "      <th>544984</th>\n",
       "      <td>41660</td>\n",
       "      <td>Lake/State</td>\n",
       "      <td>11/04/2016</td>\n",
       "      <td>W</td>\n",
       "      <td>35845</td>\n",
       "    </tr>\n",
       "    <tr>\n",
       "      <th>547592</th>\n",
       "      <td>41320</td>\n",
       "      <td>Belmont-North Main</td>\n",
       "      <td>06/26/2011</td>\n",
       "      <td>U</td>\n",
       "      <td>33795</td>\n",
       "    </tr>\n",
       "    <tr>\n",
       "      <th>159487</th>\n",
       "      <td>41420</td>\n",
       "      <td>Addison-North Main</td>\n",
       "      <td>10/29/2016</td>\n",
       "      <td>A</td>\n",
       "      <td>33615</td>\n",
       "    </tr>\n",
       "  </tbody>\n",
       "</table>\n",
       "</div>"
      ],
      "text/plain": [
       "        station_id         stationname        date daytype  rides\n",
       "825568       41320  Belmont-North Main  06/28/2015       U  36323\n",
       "352682       41320  Belmont-North Main  06/24/2012       U  36017\n",
       "544984       41660          Lake/State  11/04/2016       W  35845\n",
       "547592       41320  Belmont-North Main  06/26/2011       U  33795\n",
       "159487       41420  Addison-North Main  10/29/2016       A  33615"
      ]
     },
     "execution_count": 14,
     "metadata": {},
     "output_type": "execute_result"
    }
   ],
   "source": [
    "most_rides = df.sort_values(by='rides', ascending=False)\n",
    "\n",
    "most_rides.head(5)# YOUR CODE HERE"
   ]
  },
  {
   "cell_type": "code",
   "execution_count": 15,
   "id": "alternative-madrid",
   "metadata": {},
   "outputs": [
    {
     "data": {
      "text/html": [
       "<div>\n",
       "<style scoped>\n",
       "    .dataframe tbody tr th:only-of-type {\n",
       "        vertical-align: middle;\n",
       "    }\n",
       "\n",
       "    .dataframe tbody tr th {\n",
       "        vertical-align: top;\n",
       "    }\n",
       "\n",
       "    .dataframe thead th {\n",
       "        text-align: right;\n",
       "    }\n",
       "</style>\n",
       "<table border=\"1\" class=\"dataframe\">\n",
       "  <thead>\n",
       "    <tr style=\"text-align: right;\">\n",
       "      <th></th>\n",
       "      <th>station_id</th>\n",
       "      <th>stationname</th>\n",
       "      <th>date</th>\n",
       "      <th>daytype</th>\n",
       "      <th>rides</th>\n",
       "    </tr>\n",
       "  </thead>\n",
       "  <tbody>\n",
       "    <tr>\n",
       "      <th>159487</th>\n",
       "      <td>41420</td>\n",
       "      <td>Addison-North Main</td>\n",
       "      <td>10/29/2016</td>\n",
       "      <td>A</td>\n",
       "      <td>33615</td>\n",
       "    </tr>\n",
       "    <tr>\n",
       "      <th>547592</th>\n",
       "      <td>41320</td>\n",
       "      <td>Belmont-North Main</td>\n",
       "      <td>06/26/2011</td>\n",
       "      <td>U</td>\n",
       "      <td>33795</td>\n",
       "    </tr>\n",
       "    <tr>\n",
       "      <th>544984</th>\n",
       "      <td>41660</td>\n",
       "      <td>Lake/State</td>\n",
       "      <td>11/04/2016</td>\n",
       "      <td>W</td>\n",
       "      <td>35845</td>\n",
       "    </tr>\n",
       "    <tr>\n",
       "      <th>352682</th>\n",
       "      <td>41320</td>\n",
       "      <td>Belmont-North Main</td>\n",
       "      <td>06/24/2012</td>\n",
       "      <td>U</td>\n",
       "      <td>36017</td>\n",
       "    </tr>\n",
       "    <tr>\n",
       "      <th>825568</th>\n",
       "      <td>41320</td>\n",
       "      <td>Belmont-North Main</td>\n",
       "      <td>06/28/2015</td>\n",
       "      <td>U</td>\n",
       "      <td>36323</td>\n",
       "    </tr>\n",
       "  </tbody>\n",
       "</table>\n",
       "</div>"
      ],
      "text/plain": [
       "        station_id         stationname        date daytype  rides\n",
       "159487       41420  Addison-North Main  10/29/2016       A  33615\n",
       "547592       41320  Belmont-North Main  06/26/2011       U  33795\n",
       "544984       41660          Lake/State  11/04/2016       W  35845\n",
       "352682       41320  Belmont-North Main  06/24/2012       U  36017\n",
       "825568       41320  Belmont-North Main  06/28/2015       U  36323"
      ]
     },
     "execution_count": 15,
     "metadata": {},
     "output_type": "execute_result"
    }
   ],
   "source": [
    "most_rides = df.sort_values(by='rides')\n",
    "\n",
    "most_rides.tail(5)# YOUR CODE HERE"
   ]
  },
  {
   "cell_type": "markdown",
   "id": "ignored-climb",
   "metadata": {},
   "source": [
    "#### 3.4 What is the average number of rides per day for the W daytype?"
   ]
  },
  {
   "cell_type": "code",
   "execution_count": 46,
   "id": "97f0f573-81ef-4535-a11a-e5bd980a3e15",
   "metadata": {},
   "outputs": [
    {
     "data": {
      "text/html": [
       "<div>\n",
       "<style scoped>\n",
       "    .dataframe tbody tr th:only-of-type {\n",
       "        vertical-align: middle;\n",
       "    }\n",
       "\n",
       "    .dataframe tbody tr th {\n",
       "        vertical-align: top;\n",
       "    }\n",
       "\n",
       "    .dataframe thead th {\n",
       "        text-align: right;\n",
       "    }\n",
       "</style>\n",
       "<table border=\"1\" class=\"dataframe\">\n",
       "  <thead>\n",
       "    <tr style=\"text-align: right;\">\n",
       "      <th></th>\n",
       "      <th>station_id</th>\n",
       "      <th>stationname</th>\n",
       "      <th>date</th>\n",
       "      <th>daytype</th>\n",
       "      <th>rides</th>\n",
       "    </tr>\n",
       "  </thead>\n",
       "  <tbody>\n",
       "    <tr>\n",
       "      <th>0</th>\n",
       "      <td>41280</td>\n",
       "      <td>Jefferson Park</td>\n",
       "      <td>12/22/2017</td>\n",
       "      <td>W</td>\n",
       "      <td>6104</td>\n",
       "    </tr>\n",
       "    <tr>\n",
       "      <th>1</th>\n",
       "      <td>41000</td>\n",
       "      <td>Cermak-Chinatown</td>\n",
       "      <td>12/18/2017</td>\n",
       "      <td>W</td>\n",
       "      <td>3636</td>\n",
       "    </tr>\n",
       "    <tr>\n",
       "      <th>3</th>\n",
       "      <td>40140</td>\n",
       "      <td>Dempster-Skokie</td>\n",
       "      <td>12/19/2017</td>\n",
       "      <td>W</td>\n",
       "      <td>1759</td>\n",
       "    </tr>\n",
       "    <tr>\n",
       "      <th>8</th>\n",
       "      <td>40120</td>\n",
       "      <td>35th/Archer</td>\n",
       "      <td>12/07/2017</td>\n",
       "      <td>W</td>\n",
       "      <td>3353</td>\n",
       "    </tr>\n",
       "    <tr>\n",
       "      <th>9</th>\n",
       "      <td>41420</td>\n",
       "      <td>Addison-North Main</td>\n",
       "      <td>12/19/2017</td>\n",
       "      <td>W</td>\n",
       "      <td>6034</td>\n",
       "    </tr>\n",
       "  </tbody>\n",
       "</table>\n",
       "</div>"
      ],
      "text/plain": [
       "   station_id         stationname        date daytype  rides\n",
       "0       41280      Jefferson Park  12/22/2017       W   6104\n",
       "1       41000    Cermak-Chinatown  12/18/2017       W   3636\n",
       "3       40140     Dempster-Skokie  12/19/2017       W   1759\n",
       "8       40120         35th/Archer  12/07/2017       W   3353\n",
       "9       41420  Addison-North Main  12/19/2017       W   6034"
      ]
     },
     "execution_count": 46,
     "metadata": {},
     "output_type": "execute_result"
    }
   ],
   "source": [
    "df[df['daytype'] == 'W'].head(5)"
   ]
  },
  {
   "cell_type": "code",
   "execution_count": 47,
   "id": "entertaining-myrtle",
   "metadata": {},
   "outputs": [
    {
     "data": {
      "text/plain": [
       "3827.0251945216464"
      ]
     },
     "execution_count": 47,
     "metadata": {},
     "output_type": "execute_result"
    }
   ],
   "source": [
    "dfW = df[df['daytype'] == 'W'];\n",
    "np.mean(dfW['rides'])"
   ]
  },
  {
   "cell_type": "markdown",
   "id": "romance-beads",
   "metadata": {
    "tags": []
   },
   "source": [
    "#### 3.5 Data Exploration on Your Own\n",
    "\n",
    "Pick a simple question or hypothesis related to the ridership data, justify **why** you picked that question (i.e., why it might be an interesting question to some audience, such as city officials), and present a simple analysis. "
   ]
  },
  {
   "cell_type": "markdown",
   "id": "3d593b2b-8fe0-446f-9a40-e537059e10e5",
   "metadata": {
    "tags": []
   },
   "source": [
    "A question related to the ridership data is: How much do people use the L system on weekends and holidays compared to weekdays? Because much fewer people have to commute to work on weekends and holidays, it is likely that ridership on those days will be lower compared to weekends. If the difference is large enough, it would suggest that the L system should run at lower capacity on weekends and holidays compared to weekends in order to conserve resources and manpower. The data would support this observation.\n",
    "\n",
    "From the source website, we know that W represents weekdays, A represents weekends, U represents holidays. When we compare the mean number of rides for weekdays, weekends and holidays, we see that the number of rides on weekends and holidays is approximately only 58% and 42% respectively compared to weekday rides. "
   ]
  },
  {
   "cell_type": "code",
   "execution_count": 63,
   "id": "08eb2839-b23e-482b-ac50-1302c5a67082",
   "metadata": {},
   "outputs": [
    {
     "name": "stdout",
     "output_type": "stream",
     "text": [
      "3827.0251945216464\n"
     ]
    }
   ],
   "source": [
    "dfW = df[df['daytype'] == 'W'];\n",
    "meanW = np.mean(dfW['rides'])\n",
    "print(meanW)"
   ]
  },
  {
   "cell_type": "code",
   "execution_count": 64,
   "id": "f7d1b343-3cb2-49a2-b3a6-ba209e0cafb4",
   "metadata": {},
   "outputs": [
    {
     "name": "stdout",
     "output_type": "stream",
     "text": [
      "2222.855356190424\n"
     ]
    }
   ],
   "source": [
    "dfA = df[df['daytype'] == 'A']\n",
    "meanA = np.mean(dfA['rides'])\n",
    "print(meanA)"
   ]
  },
  {
   "cell_type": "code",
   "execution_count": 65,
   "id": "polar-gamma",
   "metadata": {},
   "outputs": [
    {
     "name": "stdout",
     "output_type": "stream",
     "text": [
      "1616.8256328456357\n"
     ]
    }
   ],
   "source": [
    "dfU = df[df['daytype'] == 'U']\n",
    "meanU = np.mean(dfU['rides'])\n",
    "print(meanU)"
   ]
  },
  {
   "cell_type": "code",
   "execution_count": 66,
   "id": "cb1ac4d3-bbcf-4941-bd00-0088f43feadb",
   "metadata": {},
   "outputs": [
    {
     "name": "stdout",
     "output_type": "stream",
     "text": [
      "Number of rides on weekends is 58.08311268429647% of the number of rides on weekdays.\n",
      "Number of rides on holidays is 42.24758266969623% of the number of rides on weekdays.\n"
     ]
    }
   ],
   "source": [
    "print(\"Number of rides on weekends is \" + str(meanA / meanW * 100) + \"% of the number of rides on weekdays.\")\n",
    "print(\"Number of rides on holidays is \" + str(meanU / meanW * 100) + \"% of the number of rides on weekdays.\")"
   ]
  }
 ],
 "metadata": {
  "kernelspec": {
   "display_name": "Python 3 (ipykernel)",
   "language": "python",
   "name": "python3"
  },
  "language_info": {
   "codemirror_mode": {
    "name": "ipython",
    "version": 3
   },
   "file_extension": ".py",
   "mimetype": "text/x-python",
   "name": "python",
   "nbconvert_exporter": "python",
   "pygments_lexer": "ipython3",
   "version": "3.10.2"
  }
 },
 "nbformat": 4,
 "nbformat_minor": 5
}
